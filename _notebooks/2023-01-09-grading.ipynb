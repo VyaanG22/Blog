{
 "cells": [
  {
   "cell_type": "markdown",
   "metadata": {},
   "source": [
    "|Reporting Category|Student Score|CB Score|Comments|\n",
    "|----|-----|-----|------|\n",
    "|Program Purpose and Function|1|0|The quality is good the reasoning is feasible|\n",
    "|Data Abstraction|0|1|The criteria is not met clearly here|\n",
    "|Managing Complexity|1|0|I was able to understand everything|\n",
    "|Procedural Abstraction|0|1|The project met the requirements|\n",
    "|Algorithm Implementaion|1|1|I can understand where the lists were used|\n",
    "|Testing|0|1|The testing is not clearly defined|"
   ]
  },
  {
   "cell_type": "markdown",
   "metadata": {},
   "source": [
    "|Reporting Category|Student Score|CB Score|Comments|\n",
    "|----|-----|-----|------|\n",
    "|Program Purpose and Function|1|1|The quality is good and purpose is found and useable|\n",
    "|Data Abstraction|1|1|The criteria is met here where I can see the see the python elements|\n",
    "|Managing Complexity|1|1|I was able to understand everything and lists use is present|\n",
    "|Procedural Abstraction|1|1|The project met the requirements|\n",
    "|Algorithm Implementation|1|1|I can understand where the lists were used|\n",
    "|Testing|1|1|The testing is clearly defined and easy to see. |"
   ]
  }
 ],
 "metadata": {
  "language_info": {
   "name": "python"
  },
  "orig_nbformat": 4
 },
 "nbformat": 4,
 "nbformat_minor": 2
}
