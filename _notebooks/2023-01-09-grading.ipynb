{
 "cells": [
  {
   "cell_type": "markdown",
   "metadata": {},
   "source": [
    "|Reporting Category|Student Score|CB Score|Comments|\n",
    "|----|-----|-----|------|\n",
    "|Program Purpose and Function|1|1||\n",
    "|Program Purpose and Function|0|1||\n",
    "|Program Purpose and Function|1|1||\n",
    "|Program Purpose and Function|0|1||\n",
    "|Program Purpose and Function|1|1||\n",
    "|Program Purpose and Function|0|1||"
   ]
  }
 ],
 "metadata": {
  "language_info": {
   "name": "python"
  },
  "orig_nbformat": 4
 },
 "nbformat": 4,
 "nbformat_minor": 2
}
