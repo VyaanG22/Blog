{
 "cells": [
  {
   "cell_type": "code",
   "execution_count": 2,
   "metadata": {},
   "outputs": [
    {
     "name": "stdout",
     "output_type": "stream",
     "text": [
      "(4, 'She Used Me Up')\n"
     ]
    }
   ],
   "source": [
    "album = input(\"Which album do you want\")\n",
    "song = int(input(\"which song number do you want\"))\n",
    "\n",
    "albums = [\n",
    "    (\"Welcome to my Nightmare\", \"Alice Cooper\", 1975,   # First album list\n",
    "     [\n",
    "         (1, \"Welcome to my Nightmare\"),\n",
    "         (2, \"Devil's Food\"),\n",
    "         (3, \"The Black Widow\"),\n",
    "         (4, \"Some Folks\"),\n",
    "         (5, \"Only Women Bleed\"),\n",
    "     ]\n",
    "     ),\n",
    "    (\"Bad Company\", \"Bad Company\", 1974,   # Second album list\n",
    "     [\n",
    "         (1, \"Can't Get Enough\"),\n",
    "         (2, \"Rock Steady\"),\n",
    "         (3, \"Ready for Love\"),\n",
    "         (4, \"Don't Let Me Down\"),\n",
    "         (5, \"Bad Company\"),\n",
    "         (6, \"The Way I Choose\"),\n",
    "         (7, \"Movin' On\"),\n",
    "         (8, \"Seagull\"),\n",
    "     ]\n",
    "     ),\n",
    "    (\"Nightflight\", \"Budgie\", 1981,\n",
    "     [\n",
    "         (1, \"I Turned to Stone\"),\n",
    "         (2, \"Keeping a Rendezvous\"),\n",
    "         (3, \"Reaper of the Glory\"),\n",
    "         (4, \"She Used Me Up\"),\n",
    "     ]\n",
    "     ),\n",
    "    (\"More Mayhem\", \"Imelda May\", 2011,\n",
    "     [\n",
    "         (1, \"Pulling the Rug\"),\n",
    "         (2, \"Psycho\"),\n",
    "         (3, \"Mayhem\"),\n",
    "         (4, \"Kentish Town Waltz\"),\n",
    "     ]\n",
    "     ),\n",
    "]\n",
    "if album == 'More Mayhem' :\n",
    "    album =1\n",
    "if album == \"Nightflight\" :\n",
    "    album = 2\n",
    "elif album == \"Bad Company\" :\n",
    "    album == 2\n",
    "else:\n",
    "    album = 1\n",
    "song = song -1\n",
    "print(albums[album][3][song])"
   ]
  },
  {
   "cell_type": "code",
   "execution_count": null,
   "metadata": {},
   "outputs": [],
   "source": []
  }
 ],
 "metadata": {
  "kernelspec": {
   "display_name": "Python 3.10.6 64-bit",
   "language": "python",
   "name": "python3"
  },
  "language_info": {
   "codemirror_mode": {
    "name": "ipython",
    "version": 3
   },
   "file_extension": ".py",
   "mimetype": "text/x-python",
   "name": "python",
   "nbconvert_exporter": "python",
   "pygments_lexer": "ipython3",
   "version": "3.10.6"
  },
  "orig_nbformat": 4,
  "vscode": {
   "interpreter": {
    "hash": "aee8b7b246df8f9039afb4144a1f6fd8d2ca17a180786b69acc140d282b71a49"
   }
  }
 },
 "nbformat": 4,
 "nbformat_minor": 2
}
