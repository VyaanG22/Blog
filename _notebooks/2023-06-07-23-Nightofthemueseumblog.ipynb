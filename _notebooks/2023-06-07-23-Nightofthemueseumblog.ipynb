{
 "cells": [
  {
   "cell_type": "markdown",
   "metadata": {},
   "source": [
    "# Night of the Museum Blog"
   ]
  },
  {
   "cell_type": "markdown",
   "metadata": {},
   "source": []
  }
 ],
 "metadata": {
  "kernelspec": {
   "display_name": "Python 3.9.12 ('base')",
   "language": "python",
   "name": "python3"
  },
  "language_info": {
   "name": "python",
   "version": "3.9.12"
  },
  "orig_nbformat": 4,
  "vscode": {
   "interpreter": {
    "hash": "b83f92cf186cc163d5a14417fbfa48051acb04e5b071b5df17e157d3a041b7f3"
   }
  }
 },
 "nbformat": 4,
 "nbformat_minor": 2
}
