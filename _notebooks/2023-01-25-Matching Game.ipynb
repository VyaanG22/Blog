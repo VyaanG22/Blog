{
 "cells": [
  {
   "cell_type": "code",
   "execution_count": 6,
   "metadata": {},
   "outputs": [
    {
     "name": "stdout",
     "output_type": "stream",
     "text": [
      "Match the following fast food restaurant with its fact:\n",
      "Founded in 1962 by Glen Bell.\n",
      "Correct!\n"
     ]
    }
   ],
   "source": [
    "import random\n",
    "\n",
    "restaurants = {\n",
    "    \"McDonald's\": \"Founded in 1940 by Richard and Maurice McDonald.\",\n",
    "    \"Burger King\": \"Founded in 1953 by James McLamore and David Edgerton.\",\n",
    "    \"Wendy's\": \"Founded in 1969 by Dave Thomas.\",\n",
    "    \"Taco Bell\": \"Founded in 1962 by Glen Bell.\",\n",
    "    \"KFC\": \"Founded in 1930 by Harland Sanders.\"\n",
    "}\n",
    "\n",
    "def play_game():\n",
    "    # Get a random restaurant and its fact\n",
    "    restaurant, fact = random.choice(list(restaurants.items()))\n",
    "    print(\"Match the following fast food restaurant with its fact:\")\n",
    "    print(fact)\n",
    "\n",
    "    # Get the user's guess\n",
    "    guess = input(\"Enter the name of the restaurant: \")\n",
    "\n",
    "    # Check if the guess is correct\n",
    "    if guess.lower() == restaurant.lower():\n",
    "        print(\"Correct!\")\n",
    "    else:\n",
    "        print(\"Incorrect. The correct answer is\", restaurant)\n",
    "\n",
    "play_game()\n"
   ]
  }
 ],
 "metadata": {
  "kernelspec": {
   "display_name": "Python 3.10.6 64-bit",
   "language": "python",
   "name": "python3"
  },
  "language_info": {
   "codemirror_mode": {
    "name": "ipython",
    "version": 3
   },
   "file_extension": ".py",
   "mimetype": "text/x-python",
   "name": "python",
   "nbconvert_exporter": "python",
   "pygments_lexer": "ipython3",
   "version": "3.10.6"
  },
  "orig_nbformat": 4,
  "vscode": {
   "interpreter": {
    "hash": "aee8b7b246df8f9039afb4144a1f6fd8d2ca17a180786b69acc140d282b71a49"
   }
  }
 },
 "nbformat": 4,
 "nbformat_minor": 2
}
