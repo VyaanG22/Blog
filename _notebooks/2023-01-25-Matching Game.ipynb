{
 "cells": [
  {
   "cell_type": "code",
   "execution_count": 27,
   "metadata": {},
   "outputs": [
    {
     "ename": "ModuleNotFoundError",
     "evalue": "No module named 'PySimpleGUI'",
     "output_type": "error",
     "traceback": [
      "\u001b[0;31m---------------------------------------------------------------------------\u001b[0m",
      "\u001b[0;31mModuleNotFoundError\u001b[0m                       Traceback (most recent call last)",
      "Cell \u001b[0;32mIn [27], line 1\u001b[0m\n\u001b[0;32m----> 1\u001b[0m \u001b[38;5;28;01mimport\u001b[39;00m \u001b[38;5;21;01mPySimpleGUI\u001b[39;00m \u001b[38;5;28;01mas\u001b[39;00m \u001b[38;5;21;01msg\u001b[39;00m\n\u001b[1;32m      2\u001b[0m \u001b[38;5;28;01mimport\u001b[39;00m \u001b[38;5;21;01mrandom\u001b[39;00m\n\u001b[1;32m      4\u001b[0m restaurants \u001b[38;5;241m=\u001b[39m {\n\u001b[1;32m      5\u001b[0m     \u001b[38;5;124m\"\u001b[39m\u001b[38;5;124mMcDonald\u001b[39m\u001b[38;5;124m'\u001b[39m\u001b[38;5;124ms\u001b[39m\u001b[38;5;124m\"\u001b[39m: \u001b[38;5;124m\"\u001b[39m\u001b[38;5;124mFounded in 1940 by Richard and Maurice McDonald.\u001b[39m\u001b[38;5;124m\"\u001b[39m,\n\u001b[1;32m      6\u001b[0m     \u001b[38;5;124m\"\u001b[39m\u001b[38;5;124mBurger King\u001b[39m\u001b[38;5;124m\"\u001b[39m: \u001b[38;5;124m\"\u001b[39m\u001b[38;5;124mFounded in 1953 by James McLamore and David Edgerton.\u001b[39m\u001b[38;5;124m\"\u001b[39m,\n\u001b[0;32m   (...)\u001b[0m\n\u001b[1;32m      9\u001b[0m     \u001b[38;5;124m\"\u001b[39m\u001b[38;5;124mKFC\u001b[39m\u001b[38;5;124m\"\u001b[39m: \u001b[38;5;124m\"\u001b[39m\u001b[38;5;124mFounded in 1930 by Harland Sanders.\u001b[39m\u001b[38;5;124m\"\u001b[39m\n\u001b[1;32m     10\u001b[0m }\n",
      "\u001b[0;31mModuleNotFoundError\u001b[0m: No module named 'PySimpleGUI'"
     ]
    }
   ],
   "source": [
    "import PySimpleGUI as sg\n",
    "import random\n",
    "\n",
    "restaurants = {\n",
    "    \"McDonald's\": \"Founded in 1940 by Richard and Maurice McDonald.\",\n",
    "    \"Burger King\": \"Founded in 1953 by James McLamore and David Edgerton.\",\n",
    "    \"Wendy's\": \"Founded in 1969 by Dave Thomas.\",\n",
    "    \"Taco Bell\": \"Founded in 1962 by Glen Bell.\",\n",
    "    \"KFC\": \"Founded in 1930 by Harland Sanders.\"\n",
    "}\n",
    "\n",
    "def play_game():\n",
    "    # Get a random restaurant and its fact\n",
    "    restaurant, fact = random.choice(list(restaurants.items()))\n",
    "    layout = [\n",
    "        [sg.Text('Match the following fast food restaurant with its fact:')],\n",
    "        [sg.Text(fact)],\n",
    "        [sg.Input(key='guess')],\n",
    "        [sg.Button('Submit')]\n",
    "    ]\n",
    "    window = sg.Window('Fast Food Restaurants').Layout(layout)\n",
    "    event, values = window.Read()\n",
    "    window.Close()\n",
    "\n",
    "    if values['guess'].lower() == restaurant.lower():\n",
    "        sg.Popup(\"Correct!\")\n",
    "    else:\n",
    "        sg.Popup(\"Incorrect. The correct answer is {}\".format(restaurant))\n",
    "\n",
    "play_game()\n"
   ]
  }
 ],
 "metadata": {
  "kernelspec": {
   "display_name": "Python 3.10.6 64-bit",
   "language": "python",
   "name": "python3"
  },
  "language_info": {
   "codemirror_mode": {
    "name": "ipython",
    "version": 3
   },
   "file_extension": ".py",
   "mimetype": "text/x-python",
   "name": "python",
   "nbconvert_exporter": "python",
   "pygments_lexer": "ipython3",
   "version": "3.10.6"
  },
  "orig_nbformat": 4,
  "vscode": {
   "interpreter": {
    "hash": "aee8b7b246df8f9039afb4144a1f6fd8d2ca17a180786b69acc140d282b71a49"
   }
  }
 },
 "nbformat": 4,
 "nbformat_minor": 2
}
