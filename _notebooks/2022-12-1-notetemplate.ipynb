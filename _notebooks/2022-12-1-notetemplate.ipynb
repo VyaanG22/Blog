{
 "cells": [
  {
   "cell_type": "markdown",
   "metadata": {},
   "source": [
    "# Note Template\n",
    "- comments: true"
   ]
  },
  {
   "cell_type": "markdown",
   "metadata": {},
   "source": [
    "# Take some additional notes that you would like here for 3.12 and 3.13. We will be looking for additional notes from the presentation. \n"
   ]
  },
  {
   "cell_type": "markdown",
   "metadata": {},
   "source": [
    "# What are procedures?\n",
    "\n",
    "**Fill in the blanks please:**\n",
    "\n",
    "Procedure: Methods or functions\n",
    "\n",
    "Parameters: INput values of a  procedure\n",
    "\n",
    "Arguments: Specify\n",
    "\n",
    "Modularity: \n",
    "\n",
    "Procedural Abstraction: \n",
    "\n",
    "What are some other names for procedures?: \n",
    "\n",
    "Why are procedures effective?: \n"
   ]
  },
  {
   "attachments": {},
   "cell_type": "markdown",
   "metadata": {},
   "source": [
    "## <mark>Challenge 1</mark> below: Add the command that will **call** the procedure. "
   ]
  },
  {
   "cell_type": "code",
   "execution_count": 2,
   "metadata": {},
   "outputs": [
    {
     "name": "stdout",
     "output_type": "stream",
     "text": [
      "Binary of num 7 is: 111\n"
     ]
    }
   ],
   "source": [
    "def DecimalToBinary(num):\n",
    "    strs = \"\"\n",
    "    while num:\n",
    "        # if (num & 1) = 1\n",
    "        if (num & 1):\n",
    "            strs += \"1\"\n",
    "        # if (num & 1) = 0\n",
    "        else:\n",
    "            strs += \"0\"\n",
    "        # right shift by 1\n",
    "        num >>= 1\n",
    "    return strs\n",
    " \n",
    "# function to reverse the string\n",
    "def reverse(strs):\n",
    "    print(strs[::-1])\n",
    " \n",
    "# Driver Code\n",
    "num = 7\n",
    "print(\"Binary of num 7 is:\", end=\" \")\n",
    "reverse(DecimalToBinary(num))"
   ]
  },
  {
   "attachments": {},
   "cell_type": "markdown",
   "metadata": {},
   "source": [
    "## <mark>Challenge 2</mark> below: Complete the Min and Max procedure in either JavaScript and Python using the instructions from the JavaScript page. (JavaScript will get you a extra 0.1)"
   ]
  },
  {
   "cell_type": "code",
   "execution_count": 10,
   "metadata": {},
   "outputs": [
    {
     "name": "stdout",
     "output_type": "stream",
     "text": [
      "Min: 1, Max: 5\n"
     ]
    }
   ],
   "source": [
    "def min_max(numbers):                                      #The f before the string indicates that this is an f-string,  \n",
    "  return (min(numbers), max(numbers))                      #which allows you to embed expressions inside string literals.\n",
    "                                                            #The {min_value} and {max_value} inside the string are placeholders for the values of the min_value and max_value\n",
    "numbers = [1, 2, 3, 4, 5]\n",
    "min_value, max_value = min_max(numbers)\n",
    "print(f\"Min: {min_value}, Max: {max_value}\")\n"
   ]
  },
  {
   "attachments": {},
   "cell_type": "markdown",
   "metadata": {},
   "source": [
    "## <mark>Homework/Hacks</mark>: For the hw, you have two options, easy or hard. The easy hack is for a 2.7 + extra work for the full 3. The easy hack is simply creating your own procedure with your own creativity. Since there is a lot of leeway for this one, you must do additional work to get a 3. For the hard hack, below is the start to a character to binary convertor. This is just a template, but the goal is to translate \"APCSP\" into binary. You can delete the existing code if you want. The only contraint is that you must use a procedure. Doing this will get you a 3. "
   ]
  },
  {
   "cell_type": "code",
   "execution_count": 20,
   "metadata": {},
   "outputs": [
    {
     "name": "stdout",
     "output_type": "stream",
     "text": [
      "0b1000001\n",
      "0b1010000\n",
      "0b1010011\n",
      "0b1000011\n",
      "0b1010000\n",
      "0b10000010b10100000b10100110b10000110b1010000\n"
     ]
    }
   ],
   "source": [
    "def charToBinary(x):\n",
    "    # Convert the character to its ASCII code\n",
    "    ascii_code = ord(x)\n",
    "    \n",
    "    # Convert the ASCII code to binary\n",
    "    binary = bin(ascii_code)\n",
    "    \n",
    "    # Return the binary representation as a string\n",
    "    return binary\n",
    "APSCP = \"APSCP\"\n",
    "for char in APSCP:\n",
    "    binary = charToBinary(char)\n",
    "    print(binary)\n",
    "binary_list = []\n",
    "for char in APSCP:\n",
    "    binary = charToBinary(char)\n",
    "    binary_list.append(binary)\n",
    "\n",
    "# Concatenate the binary strings into a single string\n",
    "binary_string = ''.join(binary_list)\n",
    "print(binary_string)\n"
   ]
  }
 ],
 "metadata": {
  "kernelspec": {
   "display_name": "Python 3.10.6 64-bit",
   "language": "python",
   "name": "python3"
  },
  "language_info": {
   "codemirror_mode": {
    "name": "ipython",
    "version": 3
   },
   "file_extension": ".py",
   "mimetype": "text/x-python",
   "name": "python",
   "nbconvert_exporter": "python",
   "pygments_lexer": "ipython3",
   "version": "3.10.6"
  },
  "orig_nbformat": 4,
  "vscode": {
   "interpreter": {
    "hash": "aee8b7b246df8f9039afb4144a1f6fd8d2ca17a180786b69acc140d282b71a49"
   }
  }
 },
 "nbformat": 4,
 "nbformat_minor": 2
}
