{
 "cells": [
  {
   "cell_type": "markdown",
   "metadata": {},
   "source": [
    "# JavaQuiz Blog Hack\n",
    "> My java quiz\n",
    "- toc: true\n",
    "- comments: true\n",
    "- permalink: /notebooks/javaQuiz\n",
    "- categories: [Notebooks]"
   ]
  },
  {
   "cell_type": "markdown",
   "metadata": {},
   "source": [
    "Design of the quiz: The three questions will be about the NBA MVP, Stephen Curry's appearance, and the current best player on the Lakers who performed the best overall. I am designing the design to be about basketball. If someone answers incorrectly, I'll provide a feature that gives them the option of trying again or moving on to the next question. I'll achieve this with the functions again and next question. Then I'll make a variable question where I'll put all my if statements, like if the player clicks correctly, they should go to the right screen, or if they click incorrectly, they should go to the wrong slide.\n",
    "\n",
    "\n",
    "Managing Complexity: Some of the things I did to handle complexity were to plan everything out beforehand, and if a mistake occurs, I go through the entire code and try to run it to see how it functions before fixing it. Another factor is that if I am having trouble with my code, I would contact a partner for assistance. Additionally, I would go through all of my routines and make sure that my variables matched the names of my screen elements and button or text names.\n",
    "\n",
    "Review Running example: Instead of having the user browse through all the answers to locate the proper one, I could tell the user who is taking the quiz whether their response is accurate or not. Another step is to write on the last page that you completed the quiz. quiz Function and reason This quiz is about basketball and includes questions regarding the 2022 MVP as well as a few other topics. You have the choice to try again or move on to the next question if you answer the question incorrectly.\n",
    "\n",
    "Problems that occurred: I had to go over everything, carefully examine everything, and match every screen button and word \"Id\" into the code because I didn't get the appropriate variable names or things like capitalization of the buttons or the screen name during the process. It also wouldn't allow me to see the blocks, so I had to restart my computer and the code for it to work. I eliminated the loop in order to fix the issue because it was also trapped in a loop and the question would not go to the next screen.\n"
   ]
  }
 ],
 "metadata": {
  "kernelspec": {
   "display_name": "Python 3.10.6 64-bit",
   "language": "python",
   "name": "python3"
  },
  "language_info": {
   "name": "python",
   "version": "3.10.6"
  },
  "orig_nbformat": 4,
  "vscode": {
   "interpreter": {
    "hash": "aee8b7b246df8f9039afb4144a1f6fd8d2ca17a180786b69acc140d282b71a49"
   }
  }
 },
 "nbformat": 4,
 "nbformat_minor": 2
}
