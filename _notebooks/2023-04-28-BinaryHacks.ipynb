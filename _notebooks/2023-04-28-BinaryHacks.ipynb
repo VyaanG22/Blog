{
 "cells": [
  {
   "cell_type": "markdown",
   "metadata": {},
   "source": [
    "Before performing any mathematical operations in binary, it is crucial to understand how binary numbers interact with each other. For instance, when subtracting binary numbers, it is essential to know that 0-0 equals 0, 1-1 equals 0, 0-1 equals 1, and 1-0 equals 1. Failure to understand these rules can make it impossible to perform accurate calculations. To determine the difference between two binary numbers, one can use the binary subtraction method, which requires borrowing 1 from the next higher bit when the minuend digit is less than the corresponding subtrahend digit. Similarly, when multiplying two binary numbers, one can use the binary multiplication method by multiplying each bit of the multiplier with every bit of the multiplicand and adding the results. For binary division, the binary division method is used, which involves subtracting the divisor from the dividend repeatedly while shifting both the quotient and remainder to the left until the remainder is less than the divisor. In binary arithmetic, specific rules must be followed, such as carrying over 1 to the next higher bit if the sum of two binary digits is 2 and using the two's complement of a binary number to represent negative values."
   ]
  },
  {
   "cell_type": "markdown",
   "metadata": {},
   "source": [
    "![picture 1](../images/1c8b011e2ad416adcab323641bae60e50927c50d3b91d37e2eded819e14955fc.png)  \n"
   ]
  },
  {
   "cell_type": "markdown",
   "metadata": {},
   "source": [
    "![picture 2](../images/86fda41d79f487131509ba8ca58506cbd064c5d41a477a5f667425d5ec54abba.png)  \n"
   ]
  },
  {
   "cell_type": "markdown",
   "metadata": {},
   "source": [
    "My mistake for this question was not clearly reading the question, because i should have wrote inhibition not inhibiting."
   ]
  },
  {
   "cell_type": "code",
   "execution_count": 1,
   "metadata": {},
   "outputs": [
    {
     "name": "stdout",
     "output_type": "stream",
     "text": [
      "Mean of original data: 0.4904628425744203\n",
      "Mean of modified data: 0.4904628425744203\n",
      "Count of even numbers: 1000\n"
     ]
    }
   ],
   "source": [
    "import pandas as pd\n",
    "df = pd.read_csv(\"files/random_numbers_1000.csv\")\n",
    "# Compute the mean of the original data\n",
    "mean_original = df[\"number\"].mean()\n",
    "\n",
    "# Apply the stipulations to modify the data\n",
    "count_first_criteria = 0\n",
    "for i, row in df.iterrows():\n",
    "    # Check if the number is odd\n",
    "    if row[\"number\"] % 2 == 1:\n",
    "        continue\n",
    "\n",
    "    # Increment count if the number is even\n",
    "    count_first_criteria += 1\n",
    "\n",
    "    # Check if the number is divisible by 5\n",
    "    if row[\"number\"] % 5 == 0:\n",
    "        row[\"number\"] *= 2\n",
    "\n",
    "    # Update the DataFrame\n",
    "    df.iloc[i] = row\n",
    "\n",
    "# Compute the mean of the modified data\n",
    "mean_modified = df[\"number\"].mean()\n",
    "\n",
    "# Print out the results\n",
    "print(\"Mean of original data:\", mean_original)\n",
    "print(\"Mean of modified data:\", mean_modified)\n",
    "print(\"Count of even numbers:\", count_first_criteria)"
   ]
  },
  {
   "cell_type": "markdown",
   "metadata": {},
   "source": [
    "By arranging logic gates in different configurations, computer functions like addition, subtraction, multiplication, and division can be performed. The gates operate on binary inputs and produce binary outputs by following predetermined logical rules.\n",
    "\n",
    "The manipulation of true and false values is known as Boolean operations, whereas logic gates are physical circuits or devices used to implement Boolean functions. This means that Boolean operations are theoretical in nature, while logic gates are their practical implementation."
   ]
  },
  {
   "cell_type": "markdown",
   "metadata": {},
   "source": [
    "![picture 3](../images/cb9bdee73a21b72f12daa91f31a89a5dce0887dddc63db798eabebe1076664a8.png)  \n"
   ]
  },
  {
   "cell_type": "markdown",
   "metadata": {},
   "source": [
    "This quiz was pretty easy and I struggled on question 4, but i was able to overcome the challenge and came out successful"
   ]
  },
  {
   "cell_type": "markdown",
   "metadata": {},
   "source": [
    "![picture 4](../images/7c23e91b134b3b546cca1f1f0e1b82a20ff42c30185d7c3f2ff3f93622bba81d.png)  \n"
   ]
  },
  {
   "cell_type": "markdown",
   "metadata": {},
   "source": [
    "![picture 5](../images/c774fb8af9328570cae67074007772616660bd15287ce90d7c84062f5c3d3fe8.png)  \n"
   ]
  },
  {
   "cell_type": "markdown",
   "metadata": {},
   "source": [
    "One hosting service website other than Github's is Heroku. One advantage of Heroku is its ease of use and flexibility. It allows developers to deploy and manage applications in various programming languages, including Ruby, Node.js, Java, Python, and more. Heroku also offers features such as automated scaling, continuous integration, and add-ons for various third-party services. Additionally, Heroku provides a free tier that allows users to deploy and run applications without any cost, making it an excellent choice for developers who want to experiment and learn without any financial commitment."
   ]
  },
  {
   "cell_type": "code",
   "execution_count": 2,
   "metadata": {},
   "outputs": [
    {
     "name": "stdout",
     "output_type": "stream",
     "text": [
      "count     8.000000\n",
      "mean     35.500000\n",
      "std      23.268618\n",
      "min      15.000000\n",
      "25%      25.500000\n",
      "50%      28.000000\n",
      "75%      33.750000\n",
      "max      90.000000\n",
      "Name: Age, dtype: float64\n",
      "A    3\n",
      "B    2\n",
      "D    1\n",
      "C    1\n",
      "F    1\n",
      "Name: Grade, dtype: int64\n",
      "     Name  Age Gender Grade\n",
      "4  Harsha   29      F     C\n",
      "5  Varalu   26      F     F\n",
      "6    Ryan   90      F     B\n",
      "7   Emaad   15      F     A\n"
     ]
    }
   ],
   "source": [
    "import pandas as pd\n",
    "\n",
    "data = {\n",
    "    'Name': ['Dillon', 'Noor', 'Steven', 'Lucas', 'Harsha', 'Varalu', 'Ryan', 'Emaad'],\n",
    "    'Age': [24, 31, 42, 27, 29, 26, 90, 15],\n",
    "    'Gender': ['M', 'M', 'M', 'M', 'F', 'F', 'F', 'F'],\n",
    "    'Grade': ['A', 'B', 'A', 'D', 'C', 'F', 'B', 'A']\n",
    "}\n",
    "df = pd.DataFrame(data)\n",
    "\n",
    "# Get summary statistics of the Age column\n",
    "age_summary = df['Age'].describe()\n",
    "print(age_summary)\n",
    "\n",
    "# Count the number of rows for each Grade\n",
    "grade_counts = df['Grade'].value_counts()\n",
    "print(grade_counts)\n",
    "\n",
    "# Filter the DataFrame to only include females\n",
    "female_df = df[df['Gender'] == 'F']\n",
    "print(female_df)"
   ]
  }
 ],
 "metadata": {
  "kernelspec": {
   "display_name": "Python 3.9.12 ('base')",
   "language": "python",
   "name": "python3"
  },
  "language_info": {
   "codemirror_mode": {
    "name": "ipython",
    "version": 3
   },
   "file_extension": ".py",
   "mimetype": "text/x-python",
   "name": "python",
   "nbconvert_exporter": "python",
   "pygments_lexer": "ipython3",
   "version": "3.9.12"
  },
  "orig_nbformat": 4,
  "vscode": {
   "interpreter": {
    "hash": "b83f92cf186cc163d5a14417fbfa48051acb04e5b071b5df17e157d3a041b7f3"
   }
  }
 },
 "nbformat": 4,
 "nbformat_minor": 2
}
