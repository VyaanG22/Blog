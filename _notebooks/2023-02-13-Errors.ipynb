{
 "cells": [
  {
   "cell_type": "markdown",
   "metadata": {},
   "source": [
    "# Blog\n",
    "> Blog\n"
   ]
  },
  {
   "cell_type": "markdown",
   "metadata": {},
   "source": [
    "For my SQL database. My issue with this database was I wrote the code, and when I tried to run the code using the main.py, the sql database wasn't created. For reference I used google to attempt to fix this issue, https://learn.microsoft.com/en-us/sql/ssdt/how-to-fix-errors?view=sql-server-ver16. I tried to follow the instructions in the article but my issue wasnt able to get resolved. I have attempted to fix this multiple times, but to no avail. For the final project I will be doing more work to fix including talking to other people in my group so that I can finally fix this. "
   ]
  }
 ],
 "metadata": {
  "language_info": {
   "name": "python"
  },
  "orig_nbformat": 4
 },
 "nbformat": 4,
 "nbformat_minor": 2
}
