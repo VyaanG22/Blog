{
 "cells": [
  {
   "cell_type": "markdown",
   "metadata": {},
   "source": [
    "# Schema of Users table in Sqlite.db\n",
    "Uses PRAGMA statement to read schema.\n",
    "\n",
    "Describe Schema, here is resource Resource- What is a database schema?\n",
    "\n",
    "What is the purpose of identity Column in SQL database?\n",
    "What is the purpose of a primary key in SQL database?\n",
    "What are the Data Types in SQL table?"
   ]
  },
  {
   "cell_type": "markdown",
   "metadata": {},
   "source": [
    " The schema() function in the code connects to a SQLite database and executes a query to fetch the schema of the 'users' table in the database. It then prints the schema to the console.\n",
    "\n",
    " The purpose of an identity column in SQL database is to automatically generate a unique value for each row in a table. It is commonly used as a primary key for the table.\n",
    "\n",
    " The purpose of a primary key in SQL database is to uniquely identify each row in a table. It is used to enforce data integrity and to create relationships between tables.\n",
    "\n",
    " The data types in a SQL table can vary depending on the database system being used, but common data types include integers, decimals, strings, and dates. Other data types include booleans, binary data, and spatial data types."
   ]
  },
  {
   "cell_type": "code",
   "execution_count": 2,
   "metadata": {},
   "outputs": [
    {
     "name": "stdout",
     "output_type": "stream",
     "text": [
      "(0, 'id', 'INTEGER', 1, None, 1)\n",
      "(1, '_name', 'VARCHAR(255)', 1, None, 0)\n",
      "(2, '_uid', 'VARCHAR(255)', 1, None, 0)\n",
      "(3, '_password', 'VARCHAR(255)', 1, None, 0)\n",
      "(4, '_dob', 'DATE', 0, None, 0)\n"
     ]
    }
   ],
   "source": [
    "import sqlite3\n",
    "\n",
    "database = 'files/sqlite.db' # this is location of database\n",
    "\n",
    "def schema():\n",
    "    \n",
    "    # Connect to the database file\n",
    "    conn = sqlite3.connect(database)\n",
    "\n",
    "    # Create a cursor object to execute SQL queries\n",
    "    cursor = conn.cursor()\n",
    "    \n",
    "    # Fetch results of Schema\n",
    "    results = cursor.execute(\"PRAGMA table_info('users')\").fetchall()\n",
    "\n",
    "    # Print the results\n",
    "    for row in results:\n",
    "        print(row)\n",
    "\n",
    "    # Close the database connection\n",
    "    conn.close()\n",
    "    \n",
    "schema()"
   ]
  },
  {
   "cell_type": "markdown",
   "metadata": {},
   "source": [
    "# Reading Users table in Sqlite.db\n",
    "Uses SQL SELECT statement to read data\n",
    "\n",
    "What is a connection object? After you google it, what do you think it does?\n",
    "Same for cursor object?\n",
    "Look at conn object and cursor object in VSCode debugger. What attributes are in the object?\n",
    "Is \"results\" an object? How do you know?"
   ]
  },
  {
   "cell_type": "markdown",
   "metadata": {},
   "source": [
    "A connection object is a Python object that represents a connection to a database. It is created using a Python library for connecting to a specific database (such as SQLite, MySQL, or PostgreSQL) and allows the user to perform operations on the database.\n",
    "\n",
    "A cursor object is a Python object that is used to interact with the database by executing SQL commands. It is created from a connection object and provides methods to execute SQL statements and retrieve the results of queries.\n",
    "\n",
    "The conn object and cursor object have various attributes that depend on the specific database and Python library being used. In general, the conn object may have attributes such as database, user, host, port, and timeout, while the cursor object may have attributes such as rowcount, description, and arraysize. To see the attributes of these objects in the VSCode debugger, you can use the dir() function or look at the object's documentation.\n",
    "\n",
    "There is no results object in the given code, so it cannot be determined whether it is an object or not."
   ]
  },
  {
   "cell_type": "code",
   "execution_count": 3,
   "metadata": {},
   "outputs": [],
   "source": [
    "import sqlite3\n",
    "\n",
    "def create():\n",
    "    name = input(\"Enter your name:\")\n",
    "    uid = input(\"Enter your user id:\")\n",
    "    password = input(\"Enter your password\")\n",
    "    dob = input(\"Enter your date of birth 'YYYY-MM-DD'\")\n",
    "    \n",
    "    # Connect to the database file\n",
    "    conn = sqlite3.connect(database)\n",
    "\n",
    "    # Create a cursor object to execute SQL commands\n",
    "    cursor = conn.cursor()\n",
    "\n",
    "    try:\n",
    "        # Execute an SQL command to insert data into a table\n",
    "        cursor.execute(\"INSERT INTO users (_name, _uid, _password, _dob) VALUES (?, ?, ?, ?)\", (name, uid, password, dob))\n",
    "        \n",
    "        # Commit the changes to the database\n",
    "        conn.commit()\n",
    "        print(f\"A new user record {uid} has been created\")\n",
    "                \n",
    "    except sqlite3.Error as error:\n",
    "        print(\"Error while executing the INSERT:\", error)\n",
    "\n",
    "\n",
    "    # Close the cursor and connection objects\n",
    "    cursor.close()\n",
    "    conn.close()\n",
    "    \n",
    "#create()"
   ]
  },
  {
   "cell_type": "markdown",
   "metadata": {},
   "source": [
    "# Updating a User in table in Sqlite.db\n",
    "Uses SQL UPDATE to modify password\n",
    "\n",
    "What does the hacked part do?\n",
    "Explain try/except, when would except occur?\n",
    "What code seems to be repeated in each of these examples to point, why is it repeated?"
   ]
  },
  {
   "cell_type": "markdown",
   "metadata": {},
   "source": [
    "The if len(password) < 2: statement checks if the length of the updated password is less than 2 characters. If this condition is true, it sets the message variable to \"hacked\" and changes the password to a hardcoded value of \"gothackednewpassword123\". This code is not necessarily malicious, but it is not secure to use a hardcoded password, as it can be easily guessed or hacked.\n",
    "\n",
    "The try/except block is used to handle exceptions that may occur when executing the SQL command to update data in the database. If an exception occurs during the execution of the try block, the code will jump to the except block to handle the exception. For example, if there is an error with the database connection or syntax error in the SQL command, the except block will be executed to print an error message.\n",
    "\n",
    "The code that is repeated in each example is related to establishing a connection to the database and creating a cursor object to execute SQL commands. These steps are necessary for any interaction with a SQLite database, so they are repeated in each example to ensure that the necessary connection and cursor objects are created before executing SQL commands."
   ]
  },
  {
   "cell_type": "code",
   "execution_count": 4,
   "metadata": {},
   "outputs": [],
   "source": [
    "import sqlite3\n",
    "\n",
    "def update():\n",
    "    uid = input(\"Enter user id to update\")\n",
    "    password = input(\"Enter updated password\")\n",
    "    if len(password) < 2:\n",
    "        message = \"hacked\"\n",
    "        password = 'gothackednewpassword123'\n",
    "    else:\n",
    "        message = \"successfully updated\"\n",
    "\n",
    "    # Connect to the database file\n",
    "    conn = sqlite3.connect(database)\n",
    "\n",
    "    # Create a cursor object to execute SQL commands\n",
    "    cursor = conn.cursor()\n",
    "\n",
    "    try:\n",
    "        # Execute an SQL command to update data in a table\n",
    "        cursor.execute(\"UPDATE users SET _password = ? WHERE _uid = ?\", (password, uid))\n",
    "        if cursor.rowcount == 0:\n",
    "            # The uid was not found in the table\n",
    "            print(f\"No uid {uid} was not found in the table\")\n",
    "        else:\n",
    "            print(f\"The row with user id {uid} the password has been {message}\")\n",
    "            conn.commit()\n",
    "    except sqlite3.Error as error:\n",
    "        print(\"Error while executing the UPDATE:\", error)\n",
    "        \n",
    "    \n",
    "    # Close the cursor and connection objects\n",
    "    cursor.close()\n",
    "    conn.close()\n",
    "    \n",
    "#update()"
   ]
  },
  {
   "cell_type": "markdown",
   "metadata": {},
   "source": [
    "# Delete a User in table in Sqlite.db\n",
    "Uses a delete function to remove a user based on a user input of the id.\n",
    "\n",
    "Is DELETE a dangerous operation? Why?\n",
    "In the print statemements, what is the \"f\" and what does {uid} do?"
   ]
  },
  {
   "cell_type": "markdown",
   "metadata": {},
   "source": [
    "Yes, DELETE operation is considered a dangerous operation as it can permanently remove data from a table, and if executed without proper caution, it can result in significant data loss.\n",
    "The \"f\" before a string indicates an f-string, which is a string literal that allows embedding expressions inside string literals, using curly braces {} and prefixed by an \"f\". {uid} inside the f-string is a variable placeholder that will be replaced with the value of the variable \"uid\" when the string is formatted."
   ]
  },
  {
   "cell_type": "code",
   "execution_count": 5,
   "metadata": {},
   "outputs": [],
   "source": [
    "import sqlite3\n",
    "\n",
    "def delete():\n",
    "    uid = input(\"Enter user id to delete\")\n",
    "\n",
    "    # Connect to the database file\n",
    "    conn = sqlite3.connect(database)\n",
    "\n",
    "    # Create a cursor object to execute SQL commands\n",
    "    cursor = conn.cursor()\n",
    "    \n",
    "    try:\n",
    "        cursor.execute(\"DELETE FROM users WHERE _uid = ?\", (uid,))\n",
    "        if cursor.rowcount == 0:\n",
    "            # The uid was not found in the table\n",
    "            print(f\"No uid {uid} was not found in the table\")\n",
    "        else:\n",
    "            # The uid was found in the table and the row was deleted\n",
    "            print(f\"The row with uid {uid} was successfully deleted\")\n",
    "        conn.commit()\n",
    "    except sqlite3.Error as error:\n",
    "        print(\"Error while executing the DELETE:\", error)\n",
    "        \n",
    "    # Close the cursor and connection objects\n",
    "    cursor.close()\n",
    "    conn.close()\n",
    "    \n",
    "#delete()"
   ]
  },
  {
   "cell_type": "markdown",
   "metadata": {},
   "source": [
    "# Menu Interface to CRUD operations\n",
    "CRUD and Schema interactions from one location by running menu. Observe input at the top of VSCode, observe output underneath code cell.\n",
    "\n",
    "Why does the menu repeat?\n",
    "Could you refactor this menu? Make it work with a List?\n"
   ]
  },
  {
   "cell_type": "markdown",
   "metadata": {},
   "source": [
    "Why does the menu repeat?\n",
    "\n",
    "The menu repeats because the menu() function is called recursively at the end of each operation. This means that after completing an operation, the menu is displayed again and the user is prompted to enter another operation.\n",
    "Could you refactor this menu? Make it work with a List?\n",
    "\n",
    "Yes, the menu can be refactored to use a list of operations and a loop to display the options and handle the user input. Here is an example of how it can be done:"
   ]
  },
  {
   "cell_type": "code",
   "execution_count": 6,
   "metadata": {},
   "outputs": [
    {
     "name": "stdout",
     "output_type": "stream",
     "text": [
      "Perform Jupyter 'Run All' prior to starting menu\n"
     ]
    }
   ],
   "source": [
    "def menu():\n",
    "    operation = input(\"Enter: (C)reate (R)ead (U)pdate or (D)elete or (S)chema\")\n",
    "    if operation.lower() == 'c':\n",
    "        create()\n",
    "    elif operation.lower() == 'r':\n",
    "        read()\n",
    "    elif operation.lower() == 'u':\n",
    "        update()\n",
    "    elif operation.lower() == 'd':\n",
    "        delete()\n",
    "    elif operation.lower() == 's':\n",
    "        schema()\n",
    "    elif len(operation)==0: # Escape Key\n",
    "        return\n",
    "    else:\n",
    "        print(\"Please enter c, r, u, or d\") \n",
    "    menu() # recursion, repeat menu\n",
    "        \n",
    "try:\n",
    "    menu() # start menu\n",
    "except:\n",
    "    print(\"Perform Jupyter 'Run All' prior to starting menu\")"
   ]
  },
  {
   "cell_type": "markdown",
   "metadata": {},
   "source": [
    "# Hacks\n",
    "Add this Blog to you own Blogging site. In the Blog add notes and observations on each code cell.\n",
    "In this implementation, do you see procedural abstraction?\n",
    "In 2.4a or 2.4b lecture\n",
    "Do you see data abstraction? Complement this with Debugging example.\n",
    "Use Imperative or OOP style to Create a new Table or do something that applies to your CPT project.\n"
   ]
  },
  {
   "cell_type": "markdown",
   "metadata": {},
   "source": [
    "# Procedural Abstraction\n",
    "This implementation incorporates a significant amount of procedural abstraction, with functions created to define various procedures in the code, such as create, read, update, and delete. These functions allow for a more generalized approach, enabling information to be added to specific rows of the database.\n",
    "\n",
    "# Data Abstraction\n",
    "Regarding data abstraction, the code demonstrates the storage of various user attributes, such as their name, password, and date of birth, together in a user-specific uid. This uid is critical in functions like update and delete, as it enables the removal or modification of data based on the unique user identification.\n",
    "\n"
   ]
  },
  {
   "cell_type": "markdown",
   "metadata": {},
   "source": [
    "![picture 2](../images/62a5fdfff5c27d5c9559a87d5db17da16db50951993351c1d00a8e88475c2a1c.png)  \n"
   ]
  },
  {
   "cell_type": "markdown",
   "metadata": {},
   "source": [
    "# Object Oriented Programming"
   ]
  },
  {
   "cell_type": "code",
   "execution_count": 6,
   "metadata": {},
   "outputs": [],
   "source": [
    "import sqlite3\n",
    "import os\n",
    "\n",
    "class SQLTable:\n",
    "    def __init__(self, db_path, table_name):\n",
    "        self.db_path = db_path\n",
    "        self.table_name = table_name\n",
    "        self.conn = sqlite3.connect(self.db_path)\n",
    "        self.cursor = self.conn.cursor()\n",
    "\n",
    "    def create_table(self, columns):\n",
    "        columns_str = ', '.join(columns)\n",
    "        query = f'CREATE TABLE IF NOT EXISTS {self.table_name} ({columns_str})'\n",
    "        self.cursor.execute(query)\n",
    "\n",
    "    def close_connection(self):\n",
    "        self.conn.close()\n",
    "\n",
    "# Example usage\n",
    "db_path = os.path.join('files', 'sqlite.db')\n",
    "table = SQLTable(db_path, 'mytable')\n",
    "table.create_table(['id INTEGER PRIMARY KEY', 'name TEXT', 'age INTEGER'])\n",
    "table.close_connection()\n"
   ]
  },
  {
   "cell_type": "code",
   "execution_count": 10,
   "metadata": {},
   "outputs": [],
   "source": [
    "import sqlite3\n",
    "\n",
    "class SQLTable:\n",
    "    def __init__(self, db_path, table_name):\n",
    "        self.db_path = db_path\n",
    "        self.table_name = table_name\n",
    "        self.conn = sqlite3.connect(self.db_path)\n",
    "        self.cursor = self.conn.cursor()\n",
    "        self.create_table()\n",
    "    \n",
    "    def create_table(self):\n",
    "        query = f\"CREATE TABLE IF NOT EXISTS {self.table_name} (name TEXT, age INTEGER)\"\n",
    "        self.cursor.execute(query)\n",
    "    \n",
    "    def add_user(self, name, age):\n",
    "        query = f\"INSERT INTO {self.table_name} (name, age) VALUES (?, ?)\"\n",
    "        self.cursor.execute(query, (name, age))\n",
    "        self.conn.commit()\n",
    "    \n",
    "    def close_connection(self):\n",
    "        self.conn.close()\n",
    "\n",
    "db_path = 'mydatabase.db'\n",
    "table = SQLTable(db_path, 'mytable')\n",
    "table.add_user('Alice', 25)\n",
    "table.add_user('Bob', 30)\n",
    "table.close_connection()\n"
   ]
  }
 ],
 "metadata": {
  "kernelspec": {
   "display_name": "Python 3.9.12 ('base')",
   "language": "python",
   "name": "python3"
  },
  "language_info": {
   "codemirror_mode": {
    "name": "ipython",
    "version": 3
   },
   "file_extension": ".py",
   "mimetype": "text/x-python",
   "name": "python",
   "nbconvert_exporter": "python",
   "pygments_lexer": "ipython3",
   "version": "3.9.12"
  },
  "orig_nbformat": 4,
  "vscode": {
   "interpreter": {
    "hash": "b83f92cf186cc163d5a14417fbfa48051acb04e5b071b5df17e157d3a041b7f3"
   }
  }
 },
 "nbformat": 4,
 "nbformat_minor": 2
}
