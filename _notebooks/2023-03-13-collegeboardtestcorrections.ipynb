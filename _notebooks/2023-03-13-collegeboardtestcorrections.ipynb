{
 "cells": [
  {
   "cell_type": "markdown",
   "metadata": {},
   "source": [
    "# Mid Term Test Corrections\n",
    "> Test Reflection\n",
    "- toc: true\n",
    "- comments: true"
   ]
  },
  {
   "cell_type": "markdown",
   "metadata": {},
   "source": [
    "# Question 3\n",
    "\n",
    "I chose B, but the correct answer is A. A is correct because Customers could have their personal information leaked and compromised if somebody gained access to the session.\n",
    "\n",
    "![picture 1](../images/b92028577475e173db6c0c4133f043148d5d54d15a9a9196f176f23eaa5394a9.png)  \n"
   ]
  },
  {
   "cell_type": "markdown",
   "metadata": {},
   "source": [
    "# Question 5\n",
    "\n",
    "I chose A but the correct answer is B, because humans are still needed, but they are going to be provided for any incoming calls.\n",
    "\n",
    "![picture 2](../images/7557222c3290d67df7e6b11e0b0ea3406849178561924a51e6e2b01dad1df3b0.png)  "
   ]
  },
  {
   "cell_type": "markdown",
   "metadata": {},
   "source": [
    "# Question 10: Which of the following activities poses the greatest personal cybersecurity risk?\n",
    "\n",
    "I chose A, but this is incorrect, and the correct answer is C, because sending a credit card number on email can lead to that email being intercepted and read by someone else, and them getting access to your credit card number, which is the largest security risk."
   ]
  },
  {
   "cell_type": "markdown",
   "metadata": {},
   "source": [
    "# Question 14: Which of the following is considered an unethical use of computer resources?\n",
    "\n",
    "I answered D, which is incorrect, while C is the correct answer because if you purchase a one user copy of a software, that means that only one person can use that, and if any more people use it, it is unethical and breaks that rules of the software."
   ]
  },
  {
   "cell_type": "markdown",
   "metadata": {},
   "source": [
    "# Question 19:\n",
    "\n",
    "I chose C, the wrong answer, instead of the correct answer B. B is correct because the list will only show elements that are either in the first or second list.\n",
    "\n",
    "![picture 3](../images/c881aee7f7db3427fd0d5d9e2da8956410dd7a524168f9f7fe88d81f29424e01.png)  "
   ]
  },
  {
   "cell_type": "markdown",
   "metadata": {},
   "source": [
    "# Question 37\n",
    "\n",
    "I chose B, but the correct answer is C, because 3 is the resulting output from the code, because 7 < 10, and then 20 > 3 will direct the code to display 3.\n",
    "\n",
    "![picture 4](../images/087758a2d95c60b547a40a6c6d0966860bf4a7ca9aa024675bef2e8f6228e468.png)  "
   ]
  },
  {
   "cell_type": "markdown",
   "metadata": {},
   "source": [
    "# Question 38\n",
    "\n",
    "Consider the following code segment with an integer variable num.\n",
    "\n",
    "IF(num > 0)\n",
    "\n",
    "{\n",
    "\n",
    "DISPLAY(\"positive\")\n",
    "\n",
    "}\n",
    "\n",
    "IF(num < 0)\n",
    "\n",
    "{\n",
    "\n",
    "DISPLAY(\"negative\")\n",
    "\n",
    "}\n",
    "\n",
    "IF(num = 0)\n",
    "\n",
    "{\n",
    "\n",
    "DISPLAY(\"zero\")\n",
    "\n",
    "}\n",
    "\n",
    "Which of the following code segments is equivalent to the code segment above?\n",
    "\n",
    "#### I chose A, when the correct answer was B, because that code segment will perform the same task as the one given."
   ]
  },
  {
   "cell_type": "markdown",
   "metadata": {},
   "source": [
    "# Question 41: A large number of genetic codes are stored as binary values in a list. Which one of the following conditions must be true in order for a researcher to obtain the correct result when using a binary search algorithm to determine if a given genetic code is in the list?\n",
    "\n",
    "I chose A, when the correct answer was B, because the list needs to be sorted based on the genetic code values because that is what a researcher is looking for."
   ]
  },
  {
   "cell_type": "markdown",
   "metadata": {},
   "source": [
    "# Question 44\n",
    "\n",
    "In the following procedure, the parameter str is a string and the parameter num is a number.\n",
    "\n",
    "PROCEDURE printArgs(str, num)\n",
    "\n",
    "{\n",
    "\n",
    "DISPLAY(num)\n",
    "\n",
    "DISPLAY(str)\n",
    "\n",
    "DISPLAY(num)\n",
    "\n",
    "}\n",
    "\n",
    "Consider the following code segment.\n",
    "\n",
    "printArgs(\"**\", 1)\n",
    "\n",
    "printArgs(\"*\", 2)\n",
    "\n",
    "What is displayed as a result of executing the code segment?\n",
    "\n",
    "#### I chose A when the correct answer was B, because that is the output of the code. 1 ** 1 2 * 2 is the result because the first one needs 2 asterisks, but the second one needs 1 asterisk."
   ]
  },
  {
   "cell_type": "markdown",
   "metadata": {},
   "source": [
    "# Question 50\n",
    "\n",
    "I chose A, which is correct, but B, which is wrong. The second correct answer is D, because that algorithm also runs in a very short and reasonable amount of time when compared to the other algorithms.\n",
    "\n",
    "![picture 5](../images/ee60599a45f6fd2e6bef5bb6d1df63ea7bfd856875169aa786d934d6b3515d68.png)  "
   ]
  }
 ],
 "metadata": {
  "kernelspec": {
   "display_name": "Python 3.9.12 ('base')",
   "language": "python",
   "name": "python3"
  },
  "language_info": {
   "codemirror_mode": {
    "name": "ipython",
    "version": 3
   },
   "file_extension": ".py",
   "mimetype": "text/x-python",
   "name": "python",
   "nbconvert_exporter": "python",
   "pygments_lexer": "ipython3",
   "version": "3.9.12"
  },
  "orig_nbformat": 4,
  "vscode": {
   "interpreter": {
    "hash": "b83f92cf186cc163d5a14417fbfa48051acb04e5b071b5df17e157d3a041b7f3"
   }
  }
 },
 "nbformat": 4,
 "nbformat_minor": 2
}
