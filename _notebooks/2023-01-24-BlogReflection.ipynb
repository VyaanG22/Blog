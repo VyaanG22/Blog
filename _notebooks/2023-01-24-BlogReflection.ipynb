{
 "cells": [
  {
   "cell_type": "markdown",
   "metadata": {},
   "source": [
    "# Blog Reflection\n",
    "> Blog Reflection\n",
    "- toc: true\n",
    "- comments: true\n"
   ]
  },
  {
   "cell_type": "markdown",
   "metadata": {},
   "source": [
    "# Crowd Sourcing\n",
    "\n",
    "To initiate a crowdsource project in a Computer Science classroom with 150 students, I would create a platform for students to submit their ideas, such as a shared online document or forum, and encourage participation by explaining the benefits of crowdsourcing, such as increased creativity and innovation. To make the N@tM (Night at the Museum) event more interesting, I would capture data on attendance, popular exhibits, visitor feedback, and engagement to show my understanding of visitor behavior and engagement."
   ]
  },
  {
   "cell_type": "markdown",
   "metadata": {},
   "source": [
    "# Computing Bias\n",
    "\n",
    "To avoid bias in algorithms, it is important to focus on unbiased data selection and preprocessing, fair algorithm design, diverse model validation, and model explainability. By doing so, the algorithm will be less prone to discrimination and more likely to produce fair and ethical outcomes that accurately reflect the target population."
   ]
  },
  {
   "cell_type": "markdown",
   "metadata": {},
   "source": [
    "# Benefical and Harmful Effects\n",
    "\n",
    "**Come up with three of your own Beneficial and corresponding Harmful Effects of Computing\n",
    "Talk about dopamine issues above. Real? Parent conspiracy? Anything that is impacting your personal study and success in High School?**\n",
    "\n",
    "\n",
    "Beneficial Effect: Improved communication and connectivity through the use of social media and messaging apps.\n",
    "Harmful Effect: Increased risk of cyberbullying and decreased face-to-face communication skills.\n",
    "\n",
    "Beneficial Effect: Increased access to information and educational resources through the use of the internet.\n",
    "Harmful Effect: Decreased attention span and ability to focus due to constant distractions and a constant stream of information.\n",
    "\n",
    "Beneficial Effect: Increased productivity through the use of productivity tools and software.\n",
    "Harmful Effect: Decreased physical activity and increased risk of repetitive strain injuries from prolonged computer use.\n",
    "\n",
    "Regarding the dopamine issue, dopamine is a neurotransmitter that plays a role in motivation and reward. The overuse of technology and social media can lead to an overstimulation of the reward center in the brain, leading to addiction-like behaviors. This can be a real issue for some people and can impact their personal study and success in high school. However, it is not a \"parent conspiracy\" but rather an issue that can arise from the overuse of technology."
   ]
  },
  {
   "cell_type": "markdown",
   "metadata": {},
   "source": [
    "# Digital Divide\n",
    "\n",
    "**How does someone empower themself in a digital world?\n",
    "How does someone that is empowered help someone that is not empowered? Describe something you could do at Del Norte HS.\n",
    "Is paper or red tape blocking digital empowerment? Are there such barriers at Del Norte? Elsewhere?**\n",
    "\n",
    "To empower oneself in a digital world, one should seek out resources and opportunities to learn about technology and its various uses. Building digital literacy skills and becoming proficient in the use of technology can help one gain confidence and control in a digital environment.\n",
    "\n",
    "An empowered individual can help someone who is not empowered by sharing their knowledge and resources, and by providing support and guidance. For example, at Del Norte HS, an empowered student could volunteer to teach a digital literacy class or mentor a peer who is struggling with technology.\n",
    "\n",
    "Barriers to digital empowerment can include lack of access to technology, lack of training and education, and outdated systems and policies. It is not clear whether such barriers exist at Del Norte HS specifically, but they do exist in many places. It is important to identify and address these barriers to ensure equitable access to digital resources and opportunities."
   ]
  }
 ],
 "metadata": {
  "kernelspec": {
   "display_name": "Python 3.10.6 64-bit",
   "language": "python",
   "name": "python3"
  },
  "language_info": {
   "name": "python",
   "version": "3.10.6"
  },
  "orig_nbformat": 4,
  "vscode": {
   "interpreter": {
    "hash": "aee8b7b246df8f9039afb4144a1f6fd8d2ca17a180786b69acc140d282b71a49"
   }
  }
 },
 "nbformat": 4,
 "nbformat_minor": 2
}
