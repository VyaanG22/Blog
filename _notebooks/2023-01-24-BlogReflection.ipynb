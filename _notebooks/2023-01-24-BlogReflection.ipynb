{
 "cells": [
  {
   "cell_type": "markdown",
   "metadata": {},
   "source": [
    "# Blog Reflection\n",
    "> Blog Reflection\n",
    "- toc: true\n",
    "- comments: true\n"
   ]
  },
  {
   "cell_type": "markdown",
   "metadata": {},
   "source": [
    "# Benefical and Harmful Effects\n",
    "\n",
    "**Come up with three of your own Beneficial and corresponding Harmful Effects of Computing\n",
    "Talk about dopamine issues above. Real? Parent conspiracy? Anything that is impacting your personal study and success in High School?**\n",
    "\n",
    "\n",
    "Beneficial Effect: Improved communication and connectivity through the use of social media and messaging apps.\n",
    "Harmful Effect: Increased risk of cyberbullying and decreased face-to-face communication skills.\n",
    "\n",
    "Beneficial Effect: Increased access to information and educational resources through the use of the internet.\n",
    "Harmful Effect: Decreased attention span and ability to focus due to constant distractions and a constant stream of information.\n",
    "\n",
    "Beneficial Effect: Increased productivity through the use of productivity tools and software.\n",
    "Harmful Effect: Decreased physical activity and increased risk of repetitive strain injuries from prolonged computer use.\n",
    "\n",
    "Regarding the dopamine issue, dopamine is a neurotransmitter that plays a role in motivation and reward. The overuse of technology and social media can lead to an overstimulation of the reward center in the brain, leading to addiction-like behaviors. This can be a real issue for some people and can impact their personal study and success in high school. However, it is not a \"parent conspiracy\" but rather an issue that can arise from the overuse of technology."
   ]
  },
  {
   "cell_type": "markdown",
   "metadata": {},
   "source": [
    "# Digital Divide\n",
    "\n",
    "**How does someone empower themself in a digital world?\n",
    "How does someone that is empowered help someone that is not empowered? Describe something you could do at Del Norte HS.\n",
    "Is paper or red tape blocking digital empowerment? Are there such barriers at Del Norte? Elsewhere?**\n",
    "\n",
    "To empower oneself in a digital world, one should seek out resources and opportunities to learn about technology and its various uses. Building digital literacy skills and becoming proficient in the use of technology can help one gain confidence and control in a digital environment.\n",
    "\n",
    "An empowered individual can help someone who is not empowered by sharing their knowledge and resources, and by providing support and guidance. For example, at Del Norte HS, an empowered student could volunteer to teach a digital literacy class or mentor a peer who is struggling with technology.\n",
    "\n",
    "Barriers to digital empowerment can include lack of access to technology, lack of training and education, and outdated systems and policies. It is not clear whether such barriers exist at Del Norte HS specifically, but they do exist in many places. It is important to identify and address these barriers to ensure equitable access to digital resources and opportunities."
   ]
  }
 ],
 "metadata": {
  "language_info": {
   "name": "python"
  },
  "orig_nbformat": 4
 },
 "nbformat": 4,
 "nbformat_minor": 2
}
