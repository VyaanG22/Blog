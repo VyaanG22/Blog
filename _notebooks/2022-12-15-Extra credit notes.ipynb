{
 "cells": [
  {
   "cell_type": "markdown",
   "metadata": {},
   "source": [
    "# Jupyter\n",
    "> This is a Jupyter Notebook\n",
    "- toc: true \n",
    "- badges: true\n",
    "- comments: true\n",
    "- categories: [jupyter]\n",
    "- image: images/chart-preview.png"
   ]
  },
  {
   "cell_type": "markdown",
   "metadata": {},
   "source": [
    "Kathleen Beveridge is a professional who has lived in Spain and San Jose. She has a mission statement of \"not only to survive but to thrive with passion, compassion, humor, and style.\" She learned to surf on the ocean waves and has worked at companies that focus on helping people and providing them with what they need. She has experience with NPI Stage Gates, which involves evaluating whether a product makes sense for a market and whether it helps target customers.\n",
    "\n",
    "Kris Porter has a background in electrical engineering, having attended UCLA and obtained a master's degree in electrical engineering from Cal State LA. In 2008, he learned research skills that helped him in his career. He started his career in 2010 with a job at a startup, which launched his DevOps career. He believes that DevOps is important for preventing DDOS attacks and for keeping hackers out of a site. He has worked on projects such as streaming media infrastructure, analytics infrastructure, and Twitter projects. He believes in continuous learning, always looking for new skills to apply to new challenges and jobs.\n",
    " \n"
   ]
  }
 ],
 "metadata": {
  "kernelspec": {
   "display_name": "Python 3.10.6 64-bit",
   "language": "python",
   "name": "python3"
  },
  "language_info": {
   "name": "python",
   "version": "3.10.6"
  },
  "orig_nbformat": 4,
  "vscode": {
   "interpreter": {
    "hash": "aee8b7b246df8f9039afb4144a1f6fd8d2ca17a180786b69acc140d282b71a49"
   }
  }
 },
 "nbformat": 4,
 "nbformat_minor": 2
}
