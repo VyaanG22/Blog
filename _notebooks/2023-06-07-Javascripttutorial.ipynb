{
 "cells": [
  {
   "cell_type": "code",
   "execution_count": null,
   "metadata": {
    "vscode": {
     "languageId": "javascript"
    }
   },
   "outputs": [],
   "source": []
  },
  {
   "cell_type": "code",
   "execution_count": 2,
   "metadata": {},
   "outputs": [
    {
     "data": {
      "application/javascript": "<body>\n  <h1>Higher or Lower Game</h1>\n  <p>Guess the next number in the sequence. Is it higher or lower?</p>\n  <div id=\"game-container\">\n    <p id=\"\">Current number: </p>\n    <input type=\"number\" id=\"user-guess\" placeholder=\"Enter your guess\" min=\"1\" max=\"100\">\n    <button onclick=\"checkGuess()\">Submit</button>\n    <p id=\"result-message\"></p>\n  </div>\n\n  <script>\n    // Generate a random number between 1 and 100\n    var currentNumber = Math.floor(Math.random() * 100) + 1;\n    document.getElementById(\"current-number\").textContent += currentNumber;\n\n    function checkGuess() {\n      var userGuess = parseInt(document.getElementById(\"user-guess\").value);\n\n      if (userGuess > currentNumber) {\n        document.getElementById(\"result-message\").textContent = \"Higher! Guess again.\";\n      } else if (userGuess < currentNumber) {\n        document.getElementById(\"result-message\").textContent = \"Lower! Guess again.\";\n      } else {\n        document.getElementById(\"result-message\").textContent = \"Congratulations! You guessed it right!\";\n        document.getElementById(\"user-guess\").disabled = true;\n      }\n\n      document.getElementById(\"user-guess\").value = \"\";\n    }\n  </script>\n</body>\n",
      "text/plain": [
       "<IPython.core.display.Javascript object>"
      ]
     },
     "metadata": {},
     "output_type": "display_data"
    }
   ],
   "source": [
    "%%js\n",
    "<body>\n",
    "  <h1>Higher or Lower Game</h1>\n",
    "  <p>Guess the next number in the sequence. Is it higher or lower?</p>\n",
    "  <div id=\"game-container\">\n",
    "    <p id=\"\">Current number: </p>\n",
    "    <input type=\"number\" id=\"user-guess\" placeholder=\"Enter your guess\" min=\"1\" max=\"100\">\n",
    "    <button onclick=\"checkGuess()\">Submit</button>\n",
    "    <p id=\"result-message\"></p>\n",
    "  </div>\n",
    "\n",
    "  <script>\n",
    "    // Generate a random number between 1 and 100\n",
    "    var currentNumber = Math.floor(Math.random() * 100) + 1;\n",
    "    document.getElementById(\"current-number\").textContent += currentNumber;\n",
    "\n",
    "    function checkGuess() {\n",
    "      var userGuess = parseInt(document.getElementById(\"user-guess\").value);\n",
    "\n",
    "      if (userGuess > currentNumber) {\n",
    "        document.getElementById(\"result-message\").textContent = \"Higher! Guess again.\";\n",
    "      } else if (userGuess < currentNumber) {\n",
    "        document.getElementById(\"result-message\").textContent = \"Lower! Guess again.\";\n",
    "      } else {\n",
    "        document.getElementById(\"result-message\").textContent = \"Congratulations! You guessed it right!\";\n",
    "        document.getElementById(\"user-guess\").disabled = true;\n",
    "      }\n",
    "\n",
    "      document.getElementById(\"user-guess\").value = \"\";\n",
    "    }\n",
    "  </script>\n",
    "</body>"
   ]
  }
 ],
 "metadata": {
  "kernelspec": {
   "display_name": "Python 3.9.12 ('base')",
   "language": "python",
   "name": "python3"
  },
  "language_info": {
   "codemirror_mode": {
    "name": "ipython",
    "version": 3
   },
   "file_extension": ".py",
   "mimetype": "text/x-python",
   "name": "python",
   "nbconvert_exporter": "python",
   "pygments_lexer": "ipython3",
   "version": "3.9.12"
  },
  "orig_nbformat": 4,
  "vscode": {
   "interpreter": {
    "hash": "b83f92cf186cc163d5a14417fbfa48051acb04e5b071b5df17e157d3a041b7f3"
   }
  }
 },
 "nbformat": 4,
 "nbformat_minor": 2
}
