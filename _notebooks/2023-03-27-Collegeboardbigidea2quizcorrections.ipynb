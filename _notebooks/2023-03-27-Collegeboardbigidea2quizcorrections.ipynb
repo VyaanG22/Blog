{
 "cells": [
  {
   "cell_type": "markdown",
   "metadata": {},
   "source": [
    "# Big Idea Quiz 2 Corrections\n",
    "> Test Reflection\n",
    "- toc: true\n",
    "- comments: true"
   ]
  },
  {
   "cell_type": "markdown",
   "metadata": {},
   "source": [
    "![picture 1](../images/e430824d4ea1b324fd771e60b06351af8badb42534b0030ba7ef59c984ce21c1.png)  \n"
   ]
  },
  {
   "cell_type": "markdown",
   "metadata": {},
   "source": [
    "![picture 2](../images/a2b3ed094814b5dbc0ce1c8010d6375748673e1ac61f1d3faf1b9177784c7170.png)  \n"
   ]
  },
  {
   "cell_type": "markdown",
   "metadata": {},
   "source": [
    "Question 2: I got this wrong because Compression algorithms are designed to reduce the size of data by removing redundancies and irrelevant information, while retaining the essential content. The primary function of a compression algorithm is to achieve this reduction in size while maintaining the integrity of the original data. However, compression algorithms do not provide any inherent security features, such as encryption or authentication."
   ]
  },
  {
   "cell_type": "markdown",
   "metadata": {},
   "source": [
    "![picture 3](../images/89a4b29b9fabc75daccca7ff1bfd623cabe7dfe9bb8cf62a3a87c9a0b8c3df05.png)  \n"
   ]
  },
  {
   "cell_type": "markdown",
   "metadata": {},
   "source": [
    "Question 12: There are a variety of factors that can affect the weight of a truck, including the amount and type of cargo it is carrying, the fuel and other consumables on board, and any modifications or repairs that may have been made. Additionally, there may be errors or discrepancies in the weighing process itself, such as variations in scales or calibration."
   ]
  },
  {
   "cell_type": "markdown",
   "metadata": {},
   "source": [
    "![picture 4](../images/f0b8e277ab2661654bdd7844df3e5ffabf136b0a3f10333eb8ffb6291db8fc82.png)  \n"
   ]
  },
  {
   "cell_type": "markdown",
   "metadata": {},
   "source": [
    "Question 15: While counting the number of moving and nonmoving violations that occurred each month can provide some information about the level of traffic violations, it is not necessarily accurate or comprehensive. This method does not take into account the severity of the violations, whether they resulted in accidents or injuries, or whether they were committed by repeat offenders."
   ]
  },
  {
   "cell_type": "markdown",
   "metadata": {},
   "source": [
    "![picture 5](../images/e96b0ccd063afa571e642bb8cc451b2620dcf285e72cef1a0874b592cc99b3ec.png)  \n"
   ]
  },
  {
   "cell_type": "markdown",
   "metadata": {},
   "source": [
    "Question 21: If a sequence of steps does not include a specific instruction to sort the entries by year, then the entries will not be sorted by year, and the entry with the lowest year value will not necessarily be in the first row of the spreadsheet."
   ]
  }
 ],
 "metadata": {
  "kernelspec": {
   "display_name": "Python 3.9.12 ('base')",
   "language": "python",
   "name": "python3"
  },
  "language_info": {
   "name": "python",
   "version": "3.9.12"
  },
  "orig_nbformat": 4,
  "vscode": {
   "interpreter": {
    "hash": "b83f92cf186cc163d5a14417fbfa48051acb04e5b071b5df17e157d3a041b7f3"
   }
  }
 },
 "nbformat": 4,
 "nbformat_minor": 2
}
