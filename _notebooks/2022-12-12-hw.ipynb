{
 "cells": [
  {
   "attachments": {},
   "cell_type": "markdown",
   "metadata": {},
   "source": [
    "# Unit 3 Lesson 16, Student Copy\n",
    "- toc: true\n",
    "- comments: true\n"
   ]
  },
  {
   "cell_type": "markdown",
   "metadata": {},
   "source": [
    "### Hack #1 - Class Notes\n",
    "\n",
    "In this section, I take my own notes on the section. I have split it up into a vocabulary section and a section for miscellaneous class notes.\n",
    "\n",
    "Vocabulary\n",
    "Simulations: abstractions that mimic more complex objects or phenomena from the real world. (The purpose is drawing inferences without the contraints of the real world.)\n",
    "\n",
    "Variance: random chance, simulated through random number generation in simulations.\n",
    "\n",
    "Miscellaneous Class Notes\n",
    "Typically, simulations leave out specific details or simplify complex aspects. It is crucial, however, to have variables to represent variance in the situation.\n",
    "Simulations often contain some amount of bias.\n",
    "Variability and randomness exists inherently in the world, and we can represent this with random number generation.\n",
    "\n",
    "Here are some helpful functions for these simulations:\n"
   ]
  },
  {
   "cell_type": "code",
   "execution_count": 35,
   "metadata": {},
   "outputs": [
    {
     "name": "stdout",
     "output_type": "stream",
     "text": [
      "6\n"
     ]
    }
   ],
   "source": [
    "import random\n",
    "min = int(input(\"WHat is lowest num\"))\n",
    "max = int(input(\"HIghest num please\"))\n",
    "x = random.randint(min,max)\n",
    "print(x)"
   ]
  },
  {
   "cell_type": "markdown",
   "metadata": {},
   "source": [
    "I entered the numbers 4 and 8 and it found the number in between which is 6."
   ]
  },
  {
   "cell_type": "markdown",
   "metadata": {},
   "source": [
    "Why is this simulation considered an abstraction?\n",
    "\n",
    "It uses a conditional to execute one part of the code only when a particular condition is met.\n",
    "It uses a REPEAT loop to run the same block of code multiple times.\n",
    "It simplifies a real-world scenario into something that can be modeled in code and executed on a computer.\n",
    "It does not request input from the user or display output to the user.\n",
    "Explanation: The simulation is considered an abstraction because it is represented in separate terms (abstracted) into a computer language, but still made to function in its intended circumstances."
   ]
  },
  {
   "attachments": {},
   "cell_type": "markdown",
   "metadata": {},
   "source": [
    "### Hack #2 - Functions Classwork"
   ]
  },
  {
   "cell_type": "code",
   "execution_count": 36,
   "metadata": {},
   "outputs": [
    {
     "name": "stdout",
     "output_type": "stream",
     "text": [
      "9\n"
     ]
    }
   ],
   "source": [
    "import random\n",
    "x = random.randint(1, 100)\n",
    "print(x)"
   ]
  },
  {
   "cell_type": "markdown",
   "metadata": {},
   "source": [
    "Random coin flip "
   ]
  },
  {
   "cell_type": "code",
   "execution_count": 21,
   "metadata": {},
   "outputs": [
    {
     "name": "stdout",
     "output_type": "stream",
     "text": [
      "Heads\n",
      "Heads\n",
      "Heads\n",
      "Tails\n"
     ]
    }
   ],
   "source": [
    "import random\n",
    "\n",
    "def coinflip():         #def function \n",
    "    randomflip = random.randint(0, 2) #picks either 0 or 1 randomly (50/50 chance of either) \n",
    "    if randomflip == 0 and 1: #assigning 0 to be heads--> if 0 is chosen then it will print, \"Heads\"\n",
    "        print(\"Heads\")\n",
    "    else:\n",
    "        if randomflip == 2: #assigning 1 to be tails--> if 1 is chosen then it will print, \"Tails\"\n",
    "            print(\"Tails\")\n",
    "\n",
    "#Tossing the coin 5 times:\n",
    "t1 = coinflip()\n",
    "t2 = coinflip()\n",
    "t3 = coinflip()\n",
    "t4 = coinflip()\n",
    "t5 = coinflip()\n",
    "    \n"
   ]
  },
  {
   "cell_type": "code",
   "execution_count": 37,
   "metadata": {},
   "outputs": [
    {
     "name": "stdout",
     "output_type": "stream",
     "text": [
      "Please pick the lower bound of the RNG.\n",
      "You picked 11.\n",
      "Please pick the upper bound of the RNG.\n",
      "You picked 20.\n",
      "Your random number is... 18.\n"
     ]
    }
   ],
   "source": [
    "import random\n",
    "print(\"Please pick the lower bound of the RNG.\")\n",
    "x = int(input())\n",
    "print(\"You picked\", str(x) + \".\")\n",
    "print(\"Please pick the upper bound of the RNG.\")\n",
    "y = int(input())\n",
    "print(\"You picked\", str(y) + \".\")\n",
    "print(\"Your random number is...\", str(random.randint(x, y)) + \".\")"
   ]
  },
  {
   "cell_type": "markdown",
   "metadata": {},
   "source": [
    "Heres something that requires user input."
   ]
  },
  {
   "cell_type": "markdown",
   "metadata": {},
   "source": [
    "### Hack #3 - Binary Simulation Problem"
   ]
  },
  {
   "cell_type": "code",
   "execution_count": 41,
   "metadata": {},
   "outputs": [
    {
     "name": "stdout",
     "output_type": "stream",
     "text": [
      "Drew: Zombie\n",
      "Bob: Zombie\n",
      "Mark: Human\n",
      "Ashely: Zombie\n",
      "Twig: Zombie\n",
      "Elfen Child: Human\n",
      "Jeffrey: Zombie\n",
      "Kid in Basement: Zombie\n"
     ]
    }
   ],
   "source": [
    "import random\n",
    "\n",
    "def generate_random_int(): # function for generating random int\n",
    "    return random.randint(0, 255)\n",
    "\n",
    "def convert_to_binary(decimal): # function for converting decimal to binary\n",
    "    i = 7\n",
    "    binary = \"\"\n",
    "    while i >= 0:\n",
    "        if decimal % (2**i) == decimal:\n",
    "            binary += \"0\"\n",
    "            i -= 1\n",
    "        else:\n",
    "            binary += \"1\"\n",
    "            decimal -= 2**i\n",
    "            i -= 1\n",
    "    return binary\n",
    "\n",
    "def determine_survivor_status(binary): # function to assign position\n",
    "    survivors = [\"Drew\", \"Bob\", \"Mark\", \"Ashely\" , \"Twig\", \"Elfen Child\", \"Jeffrey\", \"Kid in Basement\"]\n",
    "    i = 0\n",
    "    while i < len(survivors):\n",
    "        if binary[i] == \"1\":\n",
    "            temp = \"Zombie\"\n",
    "        else:\n",
    "            temp = \"Human\"\n",
    "        survivors[i] = (survivors[i], temp)\n",
    "        i += 1\n",
    "    for name, status in survivors:\n",
    "        print(name + \":\", status)\n",
    "\n",
    "determine_survivor_status(convert_to_binary(generate_random_int()))\n"
   ]
  },
  {
   "cell_type": "markdown",
   "metadata": {},
   "source": [
    "### Hack #4 - Thinking through a problem\n",
    "- create your own simulation involving a dice roll\n",
    "- should include randomization and a function for rolling + multiple trials"
   ]
  },
  {
   "cell_type": "markdown",
   "metadata": {},
   "source": [
    "I changed the function name to roll_dice and the parameter to num_rolls. I also used a for loop to iterate over the number of rolls instead of a while loop. Additionally, I changed the print statement to print \"Dice rolls: \" and added a space after each roll when printing the rolls."
   ]
  },
  {
   "cell_type": "code",
   "execution_count": 43,
   "metadata": {},
   "outputs": [
    {
     "name": "stdout",
     "output_type": "stream",
     "text": [
      "Dice rolls: 1 1 5 4 6 "
     ]
    }
   ],
   "source": [
    "import random\n",
    "\n",
    "def roll_dice(num_rolls):\n",
    "    dice_rolls = []\n",
    "    for i in range(num_rolls):\n",
    "        dice_rolls.append(random.randint(1, 6))\n",
    "    return dice_rolls\n",
    "\n",
    "rolls = roll_dice(5)\n",
    "print(\"Dice rolls: \", end='')\n",
    "for roll in rolls:\n",
    "    print(roll, end=' ')\n"
   ]
  },
  {
   "attachments": {},
   "cell_type": "markdown",
   "metadata": {},
   "source": [
    "### Hack 5 - Applying your knowledge to situation based problems\n",
    "\n",
    "Using the questions bank below, create a quiz that presents the user a random question and calculates the user's score. You can use the template below or make your own. Making your own using a loop can give you extra points. "
   ]
  },
  {
   "attachments": {},
   "cell_type": "markdown",
   "metadata": {},
   "source": [
    "1. A researcher gathers data about the effect of Advanced Placement®︎ classes on students' success in college and career, and develops a simulation to show how a sequence of AP classes affect a hypothetical student's pathway.Several school administrators are concerned that the simulation contains bias favoring high-income students, however.\n",
    "    - answer options:\n",
    "        1. The simulation is an abstraction and therefore cannot contain any bias\n",
    "        2. The simulation may accidentally contain bias due to the exclusion of details.\n",
    "        3. If the simulation is found to contain bias, then it is not possible to remove the bias from the simulation.\n",
    "        4. The only way for the simulation to be biased is if the researcher intentionally used data that favored their desired output.\n",
    "2. Jack is trying to plan his financial future using an online tool. The tool starts off by asking him to input details about his current finances and career. It then lets him choose different future scenarios, such as having children. For each scenario chosen, the tool does some calculations and outputs his projected savings at the ages of 35, 45, and 55.Would that be considered a simulation and why?\n",
    "    - answer options\n",
    "        1. No, it's not a simulation because it does not include a visualization of the results.\n",
    "        2. No, it's not a simulation because it does not include all the details of his life history and the future financial environment.\n",
    "        3. Yes, it's a simulation because it runs on a computer and includes both user input and computed output.\n",
    "        4. Yes, it's a simulation because it is an abstraction of a real world scenario that enables the drawing of inferences.\n",
    "3. Sylvia is an industrial engineer working for a sporting goods company. She is developing a baseball bat that can hit balls with higher accuracy and asks their software engineering team to develop a simulation to verify the design.Which of the following details is most important to include in this simulation?\n",
    "    - answer options\n",
    "        1. Realistic sound effects based on the material of the baseball bat and the velocity of the hit\n",
    "        2. A depiction of an audience in the stands with lifelike behavior in response to hit accuracy\n",
    "        3. Accurate accounting for the effects of wind conditions on the movement of the ball\n",
    "        4. A baseball field that is textured to differentiate between the grass and the dirt\n",
    "4. Ashlynn is an industrial engineer who is trying to design a safer parachute. She creates a computer simulation of the parachute opening at different heights and in different environmental conditions.What are advantages of running the simulation versus an actual experiment?\n",
    "    - answer options\n",
    "        1. The simulation will not contain any bias that favors one body type over another, while an experiment will be biased.\n",
    "        2. The simulation can be run more safely than an actual experiment\n",
    "        3. The simulation will accurately predict the parachute's safety level, while an experiment may be inaccurate due to faulty experimental design.\n",
    "        4. The simulation can test the parachute design in a wide range of environmental conditions that may be difficult to reliably reproduce in an experiment.\n",
    "    * this question has 2 correct answers\n",
    "5. YOUR OWN QUESTION; can be situational, pseudo code based, or vocab/concept based\n",
    "6. YOUR OWN QUESTION; can be situational, pseudo code based, or vocab/concept based"
   ]
  },
  {
   "cell_type": "code",
   "execution_count": null,
   "metadata": {},
   "outputs": [],
   "source": []
  },
  {
   "cell_type": "code",
   "execution_count": 47,
   "metadata": {},
   "outputs": [
    {
     "name": "stdout",
     "output_type": "stream",
     "text": [
      "2. How is random variability accounted for in simulations?\n",
      "a. By using clear frontend visualizations of the scenario.\n",
      "b. By connecting to an extensive API with historical data.\n",
      "c. By using random or pseudo-random number generation.\n",
      "d. By using inconsistent interpretation of concrete conditions.\n",
      "Incorrect. The correct answer is c. Your score is now 0.\n",
      "1. How does a simulation differ from an experiment?\n",
      "a. A simulation is a theoretical representation of a real-world process, while an experiment is a practical test of a hypothesis.\n",
      "b. A simulation is a practical test of a hypothesis, while an experiment is a theoretical representation of a real-world process.\n",
      "c. A simulation and an experiment are the same thing.\n",
      "d. A simulation is a representation of a real-world process that is more accurate than an experiment.\n",
      "Correct! Your score is now 1.\n",
      "5. How can simulations be used in decision-making?\n",
      "a. By providing a realistic representation of potential outcomes.\n",
      "b. By allowing for the testing of different scenarios and scenarios that may not be practical or ethical to test in the real world.\n",
      "c. By providing a way to draw inferences about real-world processes.\n",
      "d. All of the above are ways in which simulations can be used in decision-making.\n",
      "Incorrect. The correct answer is d. Your score is now 1.\n",
      "4. What are some potential limitations of simulations?\n",
      "a. They may not be able to account for all variables and complexities of the real world.\n",
      "b. They may be biased due to the assumptions and data used in the simulation.\n",
      "c. They are always less accurate than real-world experiments.\n",
      "d. All of the above are potential limitations of simulations.\n",
      "Correct! Your score is now 2.\n",
      "3. Which of the following is an example of a simulation?\n",
      "a. A computer program that predicts the weather based on data from weather stations.\n",
      "b. A scale model of a city used to test traffic flow.\n",
      "c. A physical model of an airplane used to test its flight capabilities.\n",
      "d. All of the above are examples of simulations.\n",
      "Correct! Your score is now 3.\n",
      "Your final\n"
     ]
    }
   ],
   "source": [
    "import random\n",
    "\n",
    "# New list of questions\n",
    "questions = [\n",
    "    {\n",
    "        \"q\": \"1. How does a simulation differ from an experiment?\",\n",
    "        \"a\": \"a. A simulation is a theoretical representation of a real-world process, while an experiment is a practical test of a hypothesis.\\nb. A simulation is a practical test of a hypothesis, while an experiment is a theoretical representation of a real-world process.\\nc. A simulation and an experiment are the same thing.\\nd. A simulation is a representation of a real-world process that is more accurate than an experiment.\",\n",
    "        \"correct\": \"a\"\n",
    "    },\n",
    "    {\n",
    "        \"q\": \"2. How is random variability accounted for in simulations?\",\n",
    "        \"a\": \"a. By using clear frontend visualizations of the scenario.\\nb. By connecting to an extensive API with historical data.\\nc. By using random or pseudo-random number generation.\\nd. By using inconsistent interpretation of concrete conditions.\",\n",
    "        \"correct\": \"c\"\n",
    "    },\n",
    "    {\n",
    "        \"q\": \"3. Which of the following is an example of a simulation?\",\n",
    "        \"a\": \"a. A computer program that predicts the weather based on data from weather stations.\\nb. A scale model of a city used to test traffic flow.\\nc. A physical model of an airplane used to test its flight capabilities.\\nd. All of the above are examples of simulations.\",\n",
    "        \"correct\": \"d\"\n",
    "    },\n",
    "    {\n",
    "        \"q\": \"4. What are some potential limitations of simulations?\",\n",
    "        \"a\": \"a. They may not be able to account for all variables and complexities of the real world.\\nb. They may be biased due to the assumptions and data used in the simulation.\\nc. They are always less accurate than real-world experiments.\\nd. All of the above are potential limitations of simulations.\",\n",
    "        \"correct\": \"d\"\n",
    "    },\n",
    "    {\n",
    "        \"q\": \"5. How can simulations be used in decision-making?\",\n",
    "        \"a\": \"a. By providing a realistic representation of potential outcomes.\\nb. By allowing for the testing of different scenarios and scenarios that may not be practical or ethical to test in the real world.\\nc. By providing a way to draw inferences about real-world processes.\\nd. All of the above are ways in which simulations can be used in decision-making.\",\n",
    "        \"correct\": \"d\"\n",
    "    }\n",
    "]\n",
    "\n",
    "validresponse = [\"a\", \"b\", \"c\", \"d\"]\n",
    "score = 0\n",
    "\n",
    "# Randomize the order of the questions\n",
    "random.shuffle(questions)\n",
    "\n",
    "# Iterate through each question and ask for input\n",
    "for question in questions:\n",
    "    print(question[\"q\"])\n",
    "    print(question[\"a\"])\n",
    "    user_response = input(\"Enter the letter of your answer: \")\n",
    "    if user_response.lower() == question[\"correct\"]:\n",
    "        score += 1\n",
    "        print(\"Correct! Your score is now {}.\".format(score))\n",
    "    elif user_response.lower() not in validresponse:\n",
    "        print(\"Invalid input. Please enter a letter from 'a' to 'd'.\")\n",
    "    else:\n",
    "        print(\"Incorrect. The correct answer is {}. Your score is now {}.\".format(question[\"correct\"], score))\n",
    "\n",
    "# Print final score\n",
    "print(\"Your final\")\n"
   ]
  },
  {
   "cell_type": "markdown",
   "metadata": {},
   "source": [
    "The quiz iterates through each question in the list and presents it to the user. The user is asked to enter the letter of their answer, and their response is checked against the correct answer for that question. If the user's answer is correct, their score is incremented by 1. If their answer is incorrect, their score remains the same. If the user's input is not one of the valid response letters ('a', 'b', 'c', or 'd'), a message is displayed to the user indicating that their input was invalid."
   ]
  },
  {
   "attachments": {},
   "cell_type": "markdown",
   "metadata": {},
   "source": [
    "### Hack #6 / Challenge - Taking real life problems and implementing them into code"
   ]
  },
  {
   "attachments": {},
   "cell_type": "markdown",
   "metadata": {},
   "source": [
    "Create your own simulation based on your experiences/knowledge!\n",
    "Be creative! Think about instances in your own life, science, puzzles that can be made into simulations\n",
    "\n",
    "Some ideas to get your brain running: A simulation that breeds two plants and tells you phenotypes of offspring, an adventure simulation..."
   ]
  },
  {
   "cell_type": "code",
   "execution_count": 55,
   "metadata": {},
   "outputs": [
    {
     "name": "stdout",
     "output_type": "stream",
     "text": [
      "Woke up Monday at 7:25am\n",
      "Woke up Tuesday at 7:12am\n",
      "Woke up Wednesday at 7:30am\n",
      "Woke up Thursday at 7:17am\n",
      "Woke up Friday at 7:23am\n"
     ]
    }
   ],
   "source": [
    "import random\n",
    "\n",
    "days_of_week = ['Monday', 'Tuesday', 'Wednesday', 'Thursday', 'Friday']\n",
    "\n",
    "for day in days_of_week:\n",
    "    wake_up_time = f\"7:{random.randint(0, 3)}{random.randint(0, 9)}am\"\n",
    "    print(f\"Woke up {day} at {wake_up_time}\")"
   ]
  }
 ],
 "metadata": {
  "kernelspec": {
   "display_name": "Python 3.10.6 64-bit",
   "language": "python",
   "name": "python3"
  },
  "language_info": {
   "codemirror_mode": {
    "name": "ipython",
    "version": 3
   },
   "file_extension": ".py",
   "mimetype": "text/x-python",
   "name": "python",
   "nbconvert_exporter": "python",
   "pygments_lexer": "ipython3",
   "version": "3.10.6"
  },
  "orig_nbformat": 4,
  "vscode": {
   "interpreter": {
    "hash": "aee8b7b246df8f9039afb4144a1f6fd8d2ca17a180786b69acc140d282b71a49"
   }
  }
 },
 "nbformat": 4,
 "nbformat_minor": 2
}
