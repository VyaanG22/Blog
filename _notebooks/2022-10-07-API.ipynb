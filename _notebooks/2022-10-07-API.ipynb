{
 "cells": [
  {
   "cell_type": "code",
   "execution_count": 9,
   "metadata": {},
   "outputs": [
    {
     "name": "stdout",
     "output_type": "stream",
     "text": [
      "vgOOdZbd\n",
      "\n",
      "8l36RdAF\n",
      "\n",
      "M1OxmceN\n",
      "\n",
      "pIQhs9X9\n",
      "\n",
      "YyzdnBQQ\n",
      "\n",
      "CCRvJt9K\n",
      "\n",
      "6XJmxufl\n",
      "\n",
      "rXZS338A\n",
      "\n",
      "UuMlziNj\n",
      "\n",
      "S2q2OsDK\n",
      "\n",
      "0YziL5D6\n",
      "\n",
      "rByLYZJM\n",
      "\n",
      "fc7GhAsd\n",
      "\n",
      "QsLVXcBE\n",
      "\n",
      "SMTeCLpA\n",
      "\n",
      "tEusLzyJ\n",
      "\n",
      "ABxxHZLQ\n",
      "\n",
      "EJweeufb\n",
      "\n",
      "bsDjPKSb\n",
      "\n",
      "ITfYK9q8\n",
      "\n"
     ]
    }
   ],
   "source": [
    "import requests\n",
    "\n",
    "url = \"https://flashlive-sports.p.rapidapi.com/v1/search/multi-search\"\n",
    "\n",
    "querystring = {\"query\":\"mess\",\"locale\":\"en_INT\"}\n",
    "\n",
    "headers = {\n",
    "    \"X-RapidAPI-Key\": \"6cf0c105b2mshabcf75f48cea6f9p14945ajsn30b6ebcd6ead\",\n",
    "    \"X-RapidAPI-Host\": \"flashlive-sports.p.rapidapi.com\"\n",
    "}\n",
    "\n",
    "response = requests.request(\"GET\", url, headers=headers, params=querystring)\n",
    "\n",
    "# print(response.json())\n",
    "\n",
    "for team in response.json():\n",
    "    print(team['ID'])\n",
    "    print()"
   ]
  }
 ],
 "metadata": {
  "kernelspec": {
   "display_name": "Python 3.10.6 64-bit",
   "language": "python",
   "name": "python3"
  },
  "language_info": {
   "codemirror_mode": {
    "name": "ipython",
    "version": 3
   },
   "file_extension": ".py",
   "mimetype": "text/x-python",
   "name": "python",
   "nbconvert_exporter": "python",
   "pygments_lexer": "ipython3",
   "version": "3.10.6"
  },
  "orig_nbformat": 4,
  "vscode": {
   "interpreter": {
    "hash": "aee8b7b246df8f9039afb4144a1f6fd8d2ca17a180786b69acc140d282b71a49"
   }
  }
 },
 "nbformat": 4,
 "nbformat_minor": 2
}
