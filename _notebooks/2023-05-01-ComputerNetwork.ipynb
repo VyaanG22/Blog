{
 "cells": [
  {
   "cell_type": "markdown",
   "metadata": {},
   "source": [
    "# Computers and Networks (Unit 4)\n"
   ]
  },
  {
   "cell_type": "markdown",
   "metadata": {},
   "source": [
    "# Requirements\n",
    "Work through College Board Unit 4… blog, add definitions, and pictures. Be creative, for instance make a story of Computing and Networks that is related to your PBL experiences this year.\n",
    "\n"
   ]
  },
  {
   "cell_type": "markdown",
   "metadata": {},
   "source": [
    "# How a Computer Works\n",
    "As we have learned, a computer needs aa program to do something smart. The sequence of a program initiates a series of actions with the computers Central Processing Unit (CPU). This component is essentially a binary machine focussing on program instructions provided. The CPU retrieives and stores the data it acts upon in Random Access Memory (RAM). Between the CPU, RAM, and Storage Devices a computer can work with many programs and large amounts of data.\n",
    "\n"
   ]
  },
  {
   "cell_type": "markdown",
   "metadata": {},
   "source": [
    "![picture 1](../images/ed020b8c9c86d2ab2fefdfe1482ffe3ddbef8a2431445b9dedc2375bd8554fde.png)  \n"
   ]
  },
  {
   "cell_type": "markdown",
   "metadata": {},
   "source": [
    "List specification of your Computer, or Computers if working as Pair/Trio\n",
    "\n",
    "Processor GHz: 1.7 GHz\n",
    "Memory in GB: 21.7 GB\n",
    "Storage in GB: 474 GB\n",
    "OS: Microsoft Windows\n",
    "Define or describe usage of Computer using Computer Programs. Pictures are preferred over a lot of text. Use your experience.\n",
    "\n",
    "Input devices\n",
    "Output devices\n",
    "Program File\n",
    "Program Code\n",
    "Processes\n",
    "Ports\n",
    "Data File\n",
    "Inspect Running Code\n",
    "Inspect Variables"
   ]
  },
  {
   "cell_type": "markdown",
   "metadata": {},
   "source": [
    "![picture 1](../images/2bee7bfd7475b1f0c1c79cc4678322c7217b4c34af260a4aa4096428d9fde387.png)  \n"
   ]
  },
  {
   "cell_type": "markdown",
   "metadata": {},
   "source": [
    "# The Internet\n",
    "Watch/review College Board Daily Video for 4.1.1\n",
    "\n",
    "Essential Knowledge\n",
    "A computing device is a physical artifact that can run a program. Some examples include computers, tablets, servers, routers, and smart sensors.\n",
    "A computing system is a group of computing devices and programs working together for a common purpose.\n",
    "A computer network is a group of interconnected computing devices capable of sending or receiving data.\n",
    "A computer network is a type of computing system.\n",
    "A path between two computing devices on a computer network (a sender and a receiver) is a sequence of directly connected computing devices that begins at the sender and ends at the receiver.\n",
    "Routing is the process of finding a path from sender to receiver.\n",
    "The bandwidth of a computer network is the maximum amount of data that can be sent in a fixed amount of time.\n",
    "Bandwidth is usually measured in bits per second\n",
    "Complete Vocabulary Matching Activity. Incorporate this into your learnings from year. To analyze measure path and latency use traceroute and ping commands from Linux Terminal.\n",
    "Path\n",
    "Route\n",
    "Computer System\n",
    "Computer Device\n",
    "Bandwidth\n",
    "Computer Network\n",
    "Watch/review College Board Daily Video 4.1.2\n",
    "\n",
    "Complete True of False Questions\n",
    "\n",
    "Essential Knowledge\n",
    "The internet is a computer network consisting of interconnected networks that use standardized, open (nonproprierary) communication protocols.\n",
    "Access to the internet depends on the ability to connect a computing device to an internet connected device.\n",
    "A protocol is an agreed-upon set of rules that specify the behavior of a system.\n",
    "The protocols used in the internet are open, which allows users to easily connect additional computing devices to the internet.\n",
    "Routing on the internet is usually dynamic; it is not specified in advance\n",
    "The scalability of a system is the capacity for the system to change in size and scale to meet new demands.\n",
    "The internet was designed to be scalable\n",
    "Information is passed through the internet as a data stream. Data streams contain chunks of data, which are encapsulated in packets.\n",
    "Packets contain a chunk of data and metadata used for routing the packet between the origin and the destination on the internet, as well as for data reassembly.\n",
    "Packets may arrive at the destination in order, out of order, or not at all\n",
    "IP, TCP and UDP are common protocols used on the internet.\n",
    "The world wide web is a system of linked pages, programs, and files.\n",
    "HTTP is a protocol used by the world wide web\n",
    "The world wide web uses the internet\n",
    "Go over AP videos, vocabulary, and essential knowledge. Draw a diagram showing the internet and its many levels. A preferred diagram would using your knowledge of frontend, backend, deployment, etc. Picture would highligh vocabulary by illustration. The below illustration have some ideas"
   ]
  },
  {
   "cell_type": "markdown",
   "metadata": {},
   "source": [
    "![picture 2](../images/1fa6c495f6395dca0e962072ad5bb1c9f0260a72251a4dcaf9fda59b37fe3861.png)  \n"
   ]
  },
  {
   "cell_type": "markdown",
   "metadata": {},
   "source": [
    "Often we draw pictures of machines communicating over the Internet with arrows. However, the real communication goes through protocol layers and the machine and then is trasported of the network. For College Board and future Computer Knowledge you should become familiar with the following …"
   ]
  },
  {
   "cell_type": "markdown",
   "metadata": {},
   "source": [
    "![picture 3](../images/ac8a6a7f2c1ef59d7c4c3e3251856422cb7c88b71655bf491e9c72757b1babef.png)  \n"
   ]
  },
  {
   "cell_type": "markdown",
   "metadata": {},
   "source": [
    "The “http” layer is an application layer protocol in the TCP/IP stack, used for communication between web browsers and web servers. It is the protocol used for transmitting data over the World Wide Web.\n",
    "\n",
    "The “transport” layer (TCP) is responsible for providing reliable data transfer between applications running on different hosts. The TCP protocol segments the data into smaller chunks called “segments”. Each segment contains a sequence number that identifies its position in the original stream of data, as well as other control information such as source and destination port numbers, and checksums for error detection.\n",
    "\n",
    "The “ip” layer is responsible for packetizing data received from the TCP layer of the protocol stack, and then encapsulating the data into IP packets. The IP packets are then sent to the lower layers of the protocol stack for transmission over the network.\n",
    "\n",
    "The “network” layer is responsible for routing data packets between networks using the Internet Protocol (IP). This layer handles tasks such as packet addressing and routing, fragmentation and reassembly, and network congestion control.\n",
    "\n"
   ]
  },
  {
   "cell_type": "markdown",
   "metadata": {},
   "source": [
    "# Fault Tolerance\n",
    "Watch both Daily videos for 4.2\n",
    "\n",
    "Complete the network activity, summarize your understanding of fault tolerance.\n",
    "\n",
    "**Network activity is a useful way to analyze fault tolerance in complex networks with multiple routes. Fault tolerance refers to the ability of a network to continue functioning even if one route fails, thanks to redundant paths. This ensures that there is always an alternate route available to reach the destination.**\n",
    "# Parallel and Distributed Computing\n",
    "Review previous lecture on Parallel Computing and watch Daily vidoe 4.3. Think of ways to make something in you team project to utilize Cores more effectively. Here are some thoughts to add to your story of Computers and Networks…\n",
    "\n",
    "What is naturally Distributed in Frontend/Backend archeticture?\n",
    "**In terms of its architecture, AWS can be considered a naturally distributed system. By distributing multiple containers across the server, it enables high performance for a large number of instances, resulting in a more efficient connection between the backend and frontend. Ultimately, this leads to a seamless full-stack experience.**\n",
    "\n",
    "Analyze this command in Docker: ENV GUNICORN_CMD_ARGS=\"--workers=1 --bind=0.0.0.0:8086\". Determine if there is options are options in this command for parallel computing within the server that runs python/gunicorn. Here is an article\n",
    "\n",
    "**What mainly catches my eye here as an option for parallel computing within the server is the “workers” parameter. The workers are the number of processes actually loading the application, so if there are multiple workers, there can be multiple processes loading the app in a parallel fashion. According to the article, something that I did not notice as a parallel computing process is the number of threads. This is a parameter that is not a part of the above command, but can be added.**\n",
    "\n",
    "Last week we discussed parallel computing on local machine. There are many options. Here is something to get parallel computing work with a tool called Ray.\n",
    "\n",
    "Review this article… Can you get parallel code on images to work more effectively? I have not tried Ray.\n",
    "Code example from ChatGPT using squares. This might be more interesting if nums we generated to be a lot bigger.\n",
    "\n",
    "\n",
    "**The article shows that Ray is a powerful tool for efficiently running parallel computing on large objects. Ray is a separate Python module that can be imported into programs, and the processing time is significantly reduced when compared to running the same programs without Ray. While the difference in processing time for the programs tested in the article was minimal (around 2-3 seconds), the benefits of Ray could be much greater when working with larger data sets.**"
   ]
  },
  {
   "cell_type": "code",
   "execution_count": null,
   "metadata": {},
   "outputs": [],
   "source": [
    "import ray\n",
    "\n",
    "# define a simple function that takes a number and returns its square\n",
    "def square(x):\n",
    "    return x * x\n",
    "\n",
    "# initialize Ray\n",
    "ray.init()\n",
    "\n",
    "# create a remote function that squares a list of numbers in parallel\n",
    "@ray.remote\n",
    "def square_list(nums):\n",
    "    return [square(num) for num in nums]\n",
    "\n",
    "# define a list of numbers to square\n",
    "nums = [1, 2, 3, 4, 5]\n",
    "\n",
    "# split the list into two parts\n",
    "split_idx = len(nums) // 2\n",
    "part1, part2 = nums[:split_idx], nums[split_idx:]\n",
    "\n",
    "# call the remote function in parallel on the two parts\n",
    "part1_result = square_list.remote(part1)\n",
    "part2_result = square_list.remote(part2)\n",
    "\n",
    "# get the results and combine them\n",
    "result = ray.get(part1_result) + ray.get(part2_result)\n",
    "\n",
    "# print the result\n",
    "print(result)\n"
   ]
  }
 ],
 "metadata": {
  "kernelspec": {
   "display_name": "Python 3.9.12 ('base')",
   "language": "python",
   "name": "python3"
  },
  "language_info": {
   "codemirror_mode": {
    "name": "ipython",
    "version": 3
   },
   "file_extension": ".py",
   "mimetype": "text/x-python",
   "name": "python",
   "nbconvert_exporter": "python",
   "pygments_lexer": "ipython3",
   "version": "3.9.12"
  },
  "orig_nbformat": 4,
  "vscode": {
   "interpreter": {
    "hash": "b83f92cf186cc163d5a14417fbfa48051acb04e5b071b5df17e157d3a041b7f3"
   }
  }
 },
 "nbformat": 4,
 "nbformat_minor": 2
}
