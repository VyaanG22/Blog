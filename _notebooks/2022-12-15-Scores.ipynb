{
 "cells": [
  {
   "cell_type": "markdown",
   "metadata": {},
   "source": [
    "Scores:\n",
    "1. Unit 8,10 - 0.6\n",
    "2. Unit 9,11 - 0.6\n",
    "3. Unit 12-13 - 0.8"
   ]
  }
 ],
 "metadata": {
  "language_info": {
   "name": "python"
  },
  "orig_nbformat": 4
 },
 "nbformat": 4,
 "nbformat_minor": 2
}
