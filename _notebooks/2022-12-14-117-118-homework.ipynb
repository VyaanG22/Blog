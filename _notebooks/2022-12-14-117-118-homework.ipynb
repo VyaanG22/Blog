{
 "cells": [
  {
   "attachments": {},
   "cell_type": "markdown",
   "metadata": {},
   "source": [
    "# 3.17 - 3.18\n",
    "- title: Homework 3.17 - 3.18\n",
    "- permalink: /homework1718"
   ]
  },
  {
   "attachments": {},
   "cell_type": "markdown",
   "metadata": {},
   "source": [
    "# 3.17 Algorithmic Efficiency"
   ]
  },
  {
   "attachments": {},
   "cell_type": "markdown",
   "metadata": {},
   "source": [
    "Problem: A general description of a task that can or cannot be solved algorithmically\n",
    "Decision Problem: A problem with a yes or no answer\n",
    "Organization Problem: A problem with a goal of finding the best answer\n",
    "Instance: A problem with a specific input\n",
    "Efficiency: Amount of computing needed to solve a problem\n",
    "Polynomial Efficiency (Good): More work takes a proportional amount of time (1 job is +2 time)\n",
    "Exponential Efficiency (Bad): More work takes an exponential amount more time (1 job is 2x time)\n",
    "Heuristic Approach: When optimal solutions are inefficient, look for a possibly optimal solution that is more efficient\n",
    "Decidable Problem: A decision problem that has a clear solution that will always make a correct output\n",
    "Undecidable Problem: A decision problem with no solution that is not gaurenteed to produce the correct output"
   ]
  },
  {
   "attachments": {},
   "cell_type": "markdown",
   "metadata": {},
   "source": [
    "## Notes\n",
    "- _We can check efficiency by seeing how long it takes to run a function. For example, using the time module below, we can see how long it takes to run this process one million times.\n"
   ]
  },
  {
   "cell_type": "code",
   "execution_count": 18,
   "metadata": {},
   "outputs": [
    {
     "name": "stdout",
     "output_type": "stream",
     "text": [
      "3\n",
      "0.8388350009918213 seconds\n"
     ]
    }
   ],
   "source": [
    "import time\n",
    "\n",
    "def toint(x):\n",
    "    x = int(x)\n",
    "    return(x)\n",
    "\n",
    "def tostr(x):\n",
    "    x = str(x)\n",
    "    return(x)\n",
    "\n",
    "def add(x,y):\n",
    "    x = toint(x)\n",
    "    y = toint(y)\n",
    "    z = x + y\n",
    "    z = tostr(z)\n",
    "    return(z)\n",
    "starttime = time.time()\n",
    "for i in range(1000000):\n",
    "    x = \"1\"\n",
    "    y = \"2\"\n",
    "    answer = add(x,y)\n",
    "print(answer)\n",
    "endtime = time.time()\n",
    "print(endtime-starttime,'seconds')"
   ]
  },
  {
   "attachments": {},
   "cell_type": "markdown",
   "metadata": {},
   "source": [
    "## Challenge\n",
    "Try and fix this ineficcient code!\n",
    "Only change the code between the two commented lines.\n",
    "Fully programmed solution will improve your grade, at a minimum show that you tried."
   ]
  },
  {
   "cell_type": "code",
   "execution_count": 19,
   "metadata": {},
   "outputs": [
    {
     "name": "stdout",
     "output_type": "stream",
     "text": [
      "0.5829308032989502 seconds\n"
     ]
    }
   ],
   "source": [
    "import time\n",
    "numlist = [1,3,5,7,9,11,13,15,17,19]\n",
    "valuelist = [0,3,6,9,12,15,18,21]\n",
    "def isvalue(value,array):\n",
    "    #----------\n",
    "    high = (len(array) - 1)\n",
    "    low = 0\n",
    "    while high >= low:\n",
    "        mid = (high + low) // 2\n",
    "        if array[mid] == value:\n",
    "            return True\n",
    "        elif array[mid] > value:\n",
    "            high = mid - 1\n",
    "        else:\n",
    "            low = mid + 1\n",
    "    return False\n",
    "    #----------\n",
    "starttime = time.time()\n",
    "for i in range(100000):\n",
    "    for i in range(len(valuelist)):\n",
    "        x = isvalue(valuelist[i],numlist)\n",
    "endtime = time.time()\n",
    "print(endtime-starttime,'seconds') "
   ]
  },
  {
   "attachments": {},
   "cell_type": "markdown",
   "metadata": {},
   "source": [
    "# 3.18 Undecidable Problems"
   ]
  },
  {
   "attachments": {},
   "cell_type": "markdown",
   "metadata": {},
   "source": [
    "## Notes\n",
    "- _The Halting Problem is essentially a paradox. Whenever a computer gets a paradoxical problem, it doesn't know when to stop trying to solve it.\n",
    "This is the reason why computers time out when a site will not load."
   ]
  },
  {
   "attachments": {},
   "cell_type": "markdown",
   "metadata": {},
   "source": [
    "# Homework!\n",
    "\n",
    "Make an algorithm that finds the fastest route that hits every location once starting and ending at Del Norte. Make sure to show your thinking. If you are strugling, try using a huristic approach. Remember, what matters more than having perfectly functioning code is that you tried your hardest."
   ]
  },
  {
   "cell_type": "code",
   "execution_count": 27,
   "metadata": {},
   "outputs": [],
   "source": [
    "dataset = {\n",
    "    'DelNorte':{\n",
    "        'Westview':15,\n",
    "        'MtCarmel':20,\n",
    "        'Poway':35,\n",
    "        'RanchoBernardo':50\n",
    "    },\n",
    "    'Westview':{\n",
    "        'DelNorte':15,\n",
    "        'MtCarmel':35,\n",
    "        'Poway':25,\n",
    "        'RanchoBernardo': 45\n",
    "    },\n",
    "    'MtCarmel':{\n",
    "        'Westview':35,\n",
    "        'DelNorte':20,\n",
    "        'Poway':40,\n",
    "        'RanchoBernardo':30\n",
    "    },\n",
    "    'Poway':{\n",
    "        'Westview':25,\n",
    "        'MtCarmel':40,\n",
    "        'DelNorte':35,\n",
    "        'RanchoBernardo':15\n",
    "    },\n",
    "    'RanchoBernardo':{\n",
    "        'Westview':45,\n",
    "        'MtCarmel':30,\n",
    "        'Poway':15,\n",
    "        'DelNorte':50\n",
    "    }\n",
    "}\n"
   ]
  },
  {
   "cell_type": "code",
   "execution_count": 28,
   "metadata": {},
   "outputs": [
    {
     "name": "stdout",
     "output_type": "stream",
     "text": [
      "Drivetime: 105 minutes\n",
      "Order: ['DelNorte', 'Westview', 'Poway', 'RanchoBernardo', 'MtCarmel', 'DelNorte']\n"
     ]
    }
   ],
   "source": [
    "def fastestroute(start, data):\n",
    "    drivetime = 0\n",
    "    order = [start]\n",
    "    newplace = \"\"\n",
    "    for i in range(len(data) - 1):\n",
    "        minimum_time = 1000\n",
    "        for place, time in data[order[(len(order) - 1)]].items():\n",
    "            if time < minimum_time and place not in order:\n",
    "                newplace = place\n",
    "                minimum_time = time\n",
    "        drivetime += minimum_time\n",
    "        order.append(newplace)\n",
    "    order.append(start)\n",
    "    drivetime += data[newplace][start]\n",
    "    return(drivetime, order)\n",
    "\n",
    "start = 'DelNorte'\n",
    "# 'dataset' is the name of the nested key value pair\n",
    "results = fastestroute(start, dataset)\n",
    "print(\"Drivetime: \" + str(results[0]) + \" minutes\")\n",
    "print(\"Order: \" + str(results[1]))"
   ]
  },
  {
   "cell_type": "markdown",
   "metadata": {},
   "source": [
    "I attempted the homework couldn't find the reason why my code wouldn't work."
   ]
  },
  {
   "attachments": {},
   "cell_type": "markdown",
   "metadata": {},
   "source": [
    "### Grading:\n",
    "|Challenge|Homework|\n",
    "|---|---|\n",
    "|.15 pts for attempt|.65 for attempt|\n",
    "|.20 pts for complete|.70 for complete|\n",
    "|.25 pts for above and beyond|.75 pts for above and beyond|\n"
   ]
  }
 ],
 "metadata": {
  "kernelspec": {
   "display_name": "Python 3.10.6 64-bit",
   "language": "python",
   "name": "python3"
  },
  "language_info": {
   "codemirror_mode": {
    "name": "ipython",
    "version": 3
   },
   "file_extension": ".py",
   "mimetype": "text/x-python",
   "name": "python",
   "nbconvert_exporter": "python",
   "pygments_lexer": "ipython3",
   "version": "3.10.6"
  },
  "orig_nbformat": 4,
  "vscode": {
   "interpreter": {
    "hash": "aee8b7b246df8f9039afb4144a1f6fd8d2ca17a180786b69acc140d282b71a49"
   }
  }
 },
 "nbformat": 4,
 "nbformat_minor": 2
}
