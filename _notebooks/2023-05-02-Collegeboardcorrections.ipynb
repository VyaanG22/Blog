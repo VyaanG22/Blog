{
 "cells": [
  {
   "cell_type": "markdown",
   "metadata": {},
   "source": [
    "![picture 1](../images/76f02ac3e7d663fa63ea9a03f9d0264847b16dca1c65715b90a77761bfa647b8.png)  \n"
   ]
  },
  {
   "cell_type": "markdown",
   "metadata": {},
   "source": [
    "This statement is not accurate. Insufficient access to networks is a significant factor in creating the digital divide, and addressing this issue requires the provision of adequate networks and infrastructure."
   ]
  },
  {
   "cell_type": "markdown",
   "metadata": {},
   "source": [
    "![picture 2](../images/e17620736ea831d3153b6cb76e2a7d6585e349bf9b24f9f63fbf0f53afb87971.png)  \n"
   ]
  },
  {
   "cell_type": "markdown",
   "metadata": {},
   "source": [
    "The sender's private key is not used to decrypt a message. In fact, the sender's private key is only used to sign the message, which ensures that the message was sent by the sender and has not been tampered with during transmission. The recipient uses the sender's public key to verify the signature and then uses their own private key to decrypt the message."
   ]
  },
  {
   "cell_type": "markdown",
   "metadata": {},
   "source": [
    "![picture 3](../images/73767aea6327a8b0d13431fc70c6282f326b615cde577ea82b6d5c36c30fb68e.png)  \n"
   ]
  },
  {
   "cell_type": "markdown",
   "metadata": {},
   "source": [
    "While the internet can provide valuable tools, information, and knowledge to participants in crowdsourcing projects, there are some problems that may not be solvable even with a distributed approach. These problems may be too complex or may require specialized expertise that is not available in the crowd. Additionally, there may be issues with quality control and ensuring the accuracy of the information contributed by participants. Therefore, it is important to carefully consider the scope and feasibility of a crowdsourcing project before launching it, and to have mechanisms in place for managing and evaluating the contributions of participants."
   ]
  },
  {
   "cell_type": "markdown",
   "metadata": {},
   "source": [
    "![picture 4](../images/167d8bd5b04b8f4c2b79884198acfa9c4408b3f286fb480fb735c4f9abb23369.png)  \n"
   ]
  },
  {
   "cell_type": "markdown",
   "metadata": {},
   "source": [
    "Using standard video formats is a good practice that can help ensure the long-term accessibility of videos. Standard formats are widely supported and can be played on many different devices and platforms, which reduces the risk of obsolescence and ensures that the videos can be accessed by a wide audience. In addition, using standard formats can simplify the process of archiving and preserving videos for future use. However, it is important to note that there may be other factors that can affect the long-term accessibility of videos, such as the quality of the video encoding, the storage medium, and the metadata associated with the video. Therefore, it is important to consider a range of factors when planning for the long-term accessibility of videos."
   ]
  },
  {
   "cell_type": "markdown",
   "metadata": {},
   "source": []
  }
 ],
 "metadata": {
  "kernelspec": {
   "display_name": "Python 3.9.12 ('base')",
   "language": "python",
   "name": "python3"
  },
  "language_info": {
   "name": "python",
   "version": "3.9.12"
  },
  "orig_nbformat": 4,
  "vscode": {
   "interpreter": {
    "hash": "b83f92cf186cc163d5a14417fbfa48051acb04e5b071b5df17e157d3a041b7f3"
   }
  }
 },
 "nbformat": 4,
 "nbformat_minor": 2
}
