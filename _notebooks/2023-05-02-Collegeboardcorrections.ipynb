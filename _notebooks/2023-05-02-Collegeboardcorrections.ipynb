{
 "cells": [
  {
   "cell_type": "markdown",
   "metadata": {},
   "source": [
    "![picture 6](../images/cf3519d6855c944ca2be1180244c1bc179532dc8df2c310ce90969f07fd34cbe.png)  \n"
   ]
  },
  {
   "cell_type": "markdown",
   "metadata": {},
   "source": [
    "The inputs provided result in a true output for the OR gate and a false output for the first AND gate. However, since only one input to the second AND gate is true, the overall circuit output is false."
   ]
  },
  {
   "cell_type": "markdown",
   "metadata": {},
   "source": [
    "![picture 7](../images/1b6b0bcbe30c7d5eff29ebc7a9df89635f888f64fa4b7df149f17be8241ea491.png)  \n"
   ]
  },
  {
   "cell_type": "markdown",
   "metadata": {},
   "source": [
    "The statement is correct. The binary RGB triplet for light yellow is indeed (11111111, 11111111, 11100000)."
   ]
  },
  {
   "cell_type": "markdown",
   "metadata": {},
   "source": [
    "![picture 8](../images/8d7be4bbea49327a3099735411e02f8835b609ee26d78ef39a4be70ecd10f129.png)  \n"
   ]
  },
  {
   "cell_type": "markdown",
   "metadata": {},
   "source": [
    "The correct answer was only A shouldn't have selected D"
   ]
  }
 ],
 "metadata": {
  "kernelspec": {
   "display_name": "Python 3.9.12 ('base')",
   "language": "python",
   "name": "python3"
  },
  "language_info": {
   "name": "python",
   "version": "3.9.12"
  },
  "orig_nbformat": 4,
  "vscode": {
   "interpreter": {
    "hash": "b83f92cf186cc163d5a14417fbfa48051acb04e5b071b5df17e157d3a041b7f3"
   }
  }
 },
 "nbformat": 4,
 "nbformat_minor": 2
}
