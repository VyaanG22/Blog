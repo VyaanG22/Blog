{
 "cells": [
  {
   "cell_type": "markdown",
   "metadata": {},
   "source": [
    "# Homework \n",
    "\n",
    "- toc: true\n",
    "- badges: true\n",
    "- comments: true\n",
    "- categories: [Week 13]"
   ]
  },
  {
   "cell_type": "markdown",
   "metadata": {},
   "source": [
    "## Homework/Hacks\n",
    "\n",
    " our homework we have decided for a decimal number to binary converter. You must use conditional statements within your code and have a input box for where the decimal number will go. This will give you a 2.7 out of 3 and you may add anything else to the code to get above a 2.7.\n",
    "\n"
   ]
  },
  {
   "cell_type": "markdown",
   "metadata": {},
   "source": [
    "Below is an example of decimal number to binary converter which you can use as a starting template."
   ]
  },
  {
   "cell_type": "code",
   "execution_count": 3,
   "metadata": {},
   "outputs": [
    {
     "name": "stdout",
     "output_type": "stream",
     "text": [
      "The reverse of 67 in binary is: 11000010\n",
      "\"13\" in binary is \"00001101\".\n"
     ]
    }
   ],
   "source": [
    "def DecimalToBinary(input):\n",
    "    if 0 <= input <= 255:\n",
    "        pass\n",
    "    else:\n",
    "        print(int(input) + \"Intentional Error to Restart Loop\")\n",
    "    i = 7\n",
    "    binary = \"\"\n",
    "    while i >= 0:\n",
    "        if input % (2**i) == input:\n",
    "            binary += \"0\"\n",
    "            i -= 1\n",
    "        else:\n",
    "            binary += \"1\"\n",
    "            input -= 2**i\n",
    "            i -= 1\n",
    "    return binary\n",
    " \n",
    "# function to reverse the string\n",
    "def reverse(strs):\n",
    "    print(strs[::-1])\n",
    " \n",
    "# Driver Code\n",
    "num = 67\n",
    "print(\"The reverse of 67 in binary is:\", end=\" \")\n",
    "reverse(DecimalToBinary(num))\n",
    "\n",
    "# input box\n",
    "def getUserInput():\n",
    "    try:\n",
    "        userinp = int(input(\"Input an integer between 0 and 255.\"))\n",
    "        userbin = DecimalToBinary(userinp)\n",
    "        print('\"' + str(userinp) + '\" in binary is \"' + userbin + '\".')\n",
    "    except:\n",
    "        print(\"Invalid input.\")\n",
    "        getUserInput()\n",
    "\n",
    "getUserInput()"
   ]
  }
 ],
 "metadata": {
  "kernelspec": {
   "display_name": "Python 3.9.6 64-bit",
   "language": "python",
   "name": "python3"
  },
  "language_info": {
   "codemirror_mode": {
    "name": "ipython",
    "version": 3
   },
   "file_extension": ".py",
   "mimetype": "text/x-python",
   "name": "python",
   "nbconvert_exporter": "python",
   "pygments_lexer": "ipython3",
   "version": "3.9.6"
  },
  "orig_nbformat": 4,
  "vscode": {
   "interpreter": {
    "hash": "31f2aee4e71d21fbe5cf8b01ff0e069b9275f58929596ceb00d14d90e3e16cd6"
   }
  }
 },
 "nbformat": 4,
 "nbformat_minor": 2
}
