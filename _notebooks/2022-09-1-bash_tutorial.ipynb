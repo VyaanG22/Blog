{
 "cells": [
  {
   "cell_type": "markdown",
   "metadata": {},
   "source": [
    "# Bash Tutorial\n",
    "\n",
    "\n",
    "- toc: true\n",
    "- commets: true\n",
    "- permalink: /_notebooks/bash_setup\n",
    "- categories: [_notebooks]\n",
    "- title: bash setup\n",
    "- description: bash"
   ]
  },
  {
   "cell_type": "markdown",
   "metadata": {},
   "source": [
    "## Prerequisites for Project Directory\n",
    "> Practice pulling code from git to your machine. This will create a project directory and add APCSP github project to the directory.  There is conditional logic to make sure that directory and pull only happen if it does not (!) exist.\n",
    "\n",
    "- Hack: Change variables, make new directory, clone to that directory."
   ]
  },
  {
   "cell_type": "code",
   "execution_count": 1,
   "metadata": {
    "vscode": {
     "languageId": "shellscript"
    }
   },
   "outputs": [
    {
     "name": "stdout",
     "output_type": "stream",
     "text": [
      "Using conditional statement to create a project directory and project\n",
      "Directory /Users/vyaangautam/HI exists.\n",
      "Directory /Users/vyaangautam/HI/Blog exists.\n"
     ]
    }
   ],
   "source": [
    "echo \"Using conditional statement to create a project directory and project\"\n",
    "\n",
    "# Variable section\n",
    "export project_dir=$HOME/HI  # change vscode to different name to test git clone\n",
    "export project=$project_dir/Blog  # change APCSP to name of project from git clone\n",
    "export project_repo=\"https://github.com/VyaanG22/Blog.git\"  # change to project of choice\n",
    "\n",
    "cd ~    # start in home directory\n",
    "\n",
    "# Conditional block to make a project directory\n",
    "if [ ! -d $project_dir ]\n",
    "then \n",
    "    echo \"Directory $project_dir does not exists... makinng directory $project_dir\"\n",
    "    mkdir -p $project_dir\n",
    "fi\n",
    "echo \"Directory $project_dir exists.\" \n",
    "\n",
    "# Conditional block to git clone a project from project_repo\n",
    "if [ ! -d $project ]\n",
    "then\n",
    "    echo \"Directory $project does not exists... cloning $project_repo\"\n",
    "    cd $project_dir\n",
    "    git clone $project_repo\n",
    "    cd ~\n",
    "fi\n",
    "echo \"Directory $project exists.\" "
   ]
  },
  {
   "cell_type": "markdown",
   "metadata": {},
   "source": [
    "### Look inside Fastpages/Github page project\n",
    "> All computers contain files and directories.  The clone brought more files from cloud to your machine.  Using the bash shell you will see some commands that show and interact with files and directories.\n",
    "\n",
    "- \"ls\" lists computer files in Unix and Unix-like operating systems\n",
    "- \"cd\" offers way to navigate and change working directory\n",
    "- \"pwd\" print working directory\n",
    "- \"echo\" used to display line of text/string that are passed as an argument"
   ]
  },
  {
   "cell_type": "code",
   "execution_count": 2,
   "metadata": {
    "vscode": {
     "languageId": "shellscript"
    }
   },
   "outputs": [
    {
     "name": "stdout",
     "output_type": "stream",
     "text": [
      "Navigate to project, then navigate to area wwhere files were cloned\n",
      "/Users/vyaangautam/HI/Blog\n",
      "\n",
      "list top level or root of files with project pulled from github\n",
      "2022-05-15-07-21-16.png\t_config.yml\t\t_sass\n",
      "2022-05-15-07-24-25.png\t_fastpages_docs\t\t_word\n",
      "2022-05-15-07-25-15.png\t_includes\t\tassets\n",
      "Gemfile\t\t\t_layouts\t\tdocker-compose.yml\n",
      "LICENSE\t\t\t_notebooks\t\timages\n",
      "Makefile\t\t_pages\t\t\tindex.html\n",
      "README.md\t\t_plugins\n",
      "_action_files\t\t_posts\n",
      "\n",
      "list again with hidden files pulled from github\n",
      ".\t\t\tGemfile\t\t\t_pages\n",
      "..\t\t\tLICENSE\t\t\t_plugins\n",
      ".devcontainer.json\tMakefile\t\t_posts\n",
      ".git\t\t\tREADME.md\t\t_sass\n",
      ".gitattributes\t\t_action_files\t\t_word\n",
      ".github\t\t\t_config.yml\t\tassets\n",
      ".gitignore\t\t_fastpages_docs\t\tdocker-compose.yml\n",
      "2022-05-15-07-21-16.png\t_includes\t\timages\n",
      "2022-05-15-07-24-25.png\t_layouts\t\tindex.html\n",
      "2022-05-15-07-25-15.png\t_notebooks\n",
      "\n",
      "list all files in long format\n",
      "total 848\n",
      "drwxr-xr-x  29 vyaangautam  staff     928 Aug 29 13:37 .\n",
      "drwxr-xr-x   5 vyaangautam  staff     160 Sep  1 13:40 ..\n",
      "-rw-r--r--   1 vyaangautam  staff     420 Aug 29 13:37 .devcontainer.json\n",
      "drwxr-xr-x  15 vyaangautam  staff     480 Sep  1 13:36 .git\n",
      "-rw-r--r--   1 vyaangautam  staff      84 Aug 29 13:37 .gitattributes\n",
      "drwxr-xr-x   4 vyaangautam  staff     128 Aug 29 13:37 .github\n",
      "-rw-r--r--   1 vyaangautam  staff     161 Aug 29 13:37 .gitignore\n",
      "-rw-r--r--   1 vyaangautam  staff  207007 Aug 29 13:37 2022-05-15-07-21-16.png\n",
      "-rw-r--r--   1 vyaangautam  staff   90979 Aug 29 13:37 2022-05-15-07-24-25.png\n",
      "-rw-r--r--   1 vyaangautam  staff   81691 Aug 29 13:37 2022-05-15-07-25-15.png\n",
      "-rwxr-xr-x   1 vyaangautam  staff    1304 Aug 29 13:37 Gemfile\n",
      "-rw-r--r--   1 vyaangautam  staff   11351 Aug 29 13:37 LICENSE\n",
      "-rwxr-xr-x   1 vyaangautam  staff    1422 Aug 29 13:37 Makefile\n",
      "-rwxr-xr-x   1 vyaangautam  staff    3590 Aug 29 13:37 README.md\n",
      "drwxr-xr-x  18 vyaangautam  staff     576 Aug 29 13:37 _action_files\n",
      "-rw-r--r--   1 vyaangautam  staff    3665 Aug 29 13:37 _config.yml\n",
      "drwxr-xr-x  24 vyaangautam  staff     768 Aug 29 13:37 _fastpages_docs\n",
      "drwxr-xr-x  27 vyaangautam  staff     864 Aug 29 13:37 _includes\n",
      "drwxr-xr-x   6 vyaangautam  staff     192 Aug 29 13:37 _layouts\n",
      "drwxr-xr-x  10 vyaangautam  staff     320 Sep  1 13:27 _notebooks\n",
      "drwxr-xr-x   6 vyaangautam  staff     192 Aug 29 13:37 _pages\n",
      "drwxr-xr-x   4 vyaangautam  staff     128 Aug 29 13:37 _plugins\n",
      "drwxr-xr-x   7 vyaangautam  staff     224 Aug 30 14:16 _posts\n",
      "drwxr-xr-x   3 vyaangautam  staff      96 Aug 29 13:37 _sass\n",
      "drwxr-xr-x   3 vyaangautam  staff      96 Aug 29 13:37 _word\n",
      "drwxr-xr-x   4 vyaangautam  staff     128 Aug 29 13:37 assets\n",
      "-rwxr-xr-x   1 vyaangautam  staff    1136 Aug 29 13:37 docker-compose.yml\n",
      "drwxr-xr-x   7 vyaangautam  staff     224 Aug 29 13:37 images\n",
      "-rw-r--r--   1 vyaangautam  staff     100 Aug 30 13:31 index.html\n"
     ]
    }
   ],
   "source": [
    "# You must run cells above to define variable and project\n",
    "\n",
    "echo \"Navigate to project, then navigate to area wwhere files were cloned\"\n",
    "cd $project\n",
    "pwd\n",
    "\n",
    "echo \"\"\n",
    "echo \"list top level or root of files with project pulled from github\"\n",
    "ls\n",
    "\n",
    "echo \"\"\n",
    "echo \"list again with hidden files pulled from github\"\n",
    "ls -a   # hidden files flag, many shell commands have flags\n",
    "\n",
    "echo \"\"\n",
    "echo \"list all files in long format\"\n",
    "ls -al   # all files and long listing"
   ]
  },
  {
   "cell_type": "code",
   "execution_count": 3,
   "metadata": {
    "vscode": {
     "languageId": "shellscript"
    }
   },
   "outputs": [
    {
     "name": "stdout",
     "output_type": "stream",
     "text": [
      "Look for posts\n",
      "/Users/vyaangautam/HI/Blog/_posts\n",
      "total 32\n",
      "-rwxr-xr-x  1 vyaangautam  staff  1966 Aug 29 13:37 2020-01-14-test-markdown-post.md\n",
      "-rw-r--r--  1 vyaangautam  staff    34 Aug 30 13:03 2022-08-24-CodE.md\n",
      "-rw-r--r--  1 vyaangautam  staff   139 Aug 30 14:27 FirstMarkdown.md\n",
      "-rw-r--r--  1 vyaangautam  staff   720 Aug 29 13:37 README.md\n"
     ]
    }
   ],
   "source": [
    "# You must run cells above to define variable and project\n",
    "\n",
    "echo \"Look for posts\"\n",
    "export posts=$project/_posts  # _posts inside project\n",
    "cd $posts  # this should exist per fastpages\n",
    "pwd  # present working directory\n",
    "ls -l  # list posts"
   ]
  },
  {
   "cell_type": "code",
   "execution_count": 4,
   "metadata": {
    "vscode": {
     "languageId": "shellscript"
    }
   },
   "outputs": [
    {
     "name": "stdout",
     "output_type": "stream",
     "text": [
      "Look for notebooks\n",
      "/Users/vyaangautam/HI/Blog/_notebooks\n",
      "total 6272\n",
      "-rw-r--r--  1 vyaangautam  staff  3162468 Aug 30 14:20 2020-02-20-test.ipynb\n",
      "-rw-r--r--  1 vyaangautam  staff      677 Aug 30 14:18 2022-08-30-Jupyter.ipynb\n",
      "-rw-r--r--  1 vyaangautam  staff     2473 Aug 31 14:22 2022-08-31-quiz.ipynb\n",
      "-rw-r--r--  1 vyaangautam  staff    26182 Sep  1 13:32 2022-09-1-bash_tutorial.ipynb\n",
      "-rw-r--r--  1 vyaangautam  staff      771 Aug 29 13:37 README.md\n",
      "-rw-r--r--  1 vyaangautam  staff      854 Aug 30 14:20 firstpython.ipynb\n",
      "drwxr-xr-x  4 vyaangautam  staff      128 Aug 29 13:37 ghtop_images\n",
      "drwxr-xr-x  3 vyaangautam  staff       96 Aug 29 13:37 my_icons\n"
     ]
    }
   ],
   "source": [
    "# You must run cells above to define variable and project\n",
    "\n",
    "echo \"Look for notebooks\"\n",
    "export notebooks=$project/_notebooks  # _notebooks is inside project\n",
    "cd $notebooks   # this should exist per fastpages\n",
    "pwd  # present working directory\n",
    "ls -l  # list notebooks"
   ]
  },
  {
   "cell_type": "code",
   "execution_count": 5,
   "metadata": {
    "vscode": {
     "languageId": "shellscript"
    }
   },
   "outputs": [
    {
     "name": "stdout",
     "output_type": "stream",
     "text": [
      "Look for images in notebooks, print working directory, list files\n",
      "bash: cd: /Users/vyaangautam/HI/Blog/_notebooks/images: No such file or directory\n",
      "/Users/vyaangautam/HI/Blog/_notebooks\n",
      "total 6272\n",
      "-rw-r--r--  1 vyaangautam  staff  3162468 Aug 30 14:20 2020-02-20-test.ipynb\n",
      "-rw-r--r--  1 vyaangautam  staff      677 Aug 30 14:18 2022-08-30-Jupyter.ipynb\n",
      "-rw-r--r--  1 vyaangautam  staff     2473 Aug 31 14:22 2022-08-31-quiz.ipynb\n",
      "-rw-r--r--  1 vyaangautam  staff    26182 Sep  1 13:32 2022-09-1-bash_tutorial.ipynb\n",
      "-rw-r--r--  1 vyaangautam  staff      771 Aug 29 13:37 README.md\n",
      "-rw-r--r--  1 vyaangautam  staff      854 Aug 30 14:20 firstpython.ipynb\n",
      "drwxr-xr-x  4 vyaangautam  staff      128 Aug 29 13:37 ghtop_images\n",
      "drwxr-xr-x  3 vyaangautam  staff       96 Aug 29 13:37 my_icons\n"
     ]
    }
   ],
   "source": [
    "# You must run cells above to define notebooks location\n",
    "\n",
    "echo \"Look for images in notebooks, print working directory, list files\"\n",
    "cd $notebooks/images  # this should exist per fastpages\n",
    "pwd\n",
    "ls -l"
   ]
  },
  {
   "cell_type": "markdown",
   "metadata": {},
   "source": [
    "### Look inside a Markdown File\n",
    "> \"cat\" reads data from the file and gives its content as output"
   ]
  },
  {
   "cell_type": "code",
   "execution_count": 6,
   "metadata": {
    "vscode": {
     "languageId": "shellscript"
    }
   },
   "outputs": [
    {
     "name": "stdout",
     "output_type": "stream",
     "text": [
      "Navigate to project, then navigate to area wwhere files were cloned\n",
      "show the contents of README.md\n",
      "\n",
      "[//]: # (This template replaces README.md when someone creates a new repo with the fastpages template.)\n",
      "\n",
      "![](https://github.com/VyaanG22/Blog/workflows/CI/badge.svg) \n",
      "![](https://github.com/VyaanG22/Blog/workflows/GH-Pages%20Status/badge.svg) \n",
      "[![](https://img.shields.io/static/v1?label=fastai&message=fastpages&color=57aeac&labelColor=black&style=flat&logo=data:image/png;base64,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)](https://github.com/fastai/fastpages)\n",
      "\n",
      "https://VyaanG22.github.io/Blog/\n",
      "\n",
      "# My Blog\n",
      "\n",
      "\n",
      "_powered by [fastpages](https://github.com/fastai/fastpages)_\n",
      "\n",
      "\n",
      "## What To Do Next?\n",
      "\n",
      "Great!  You have setup your repo.  Now its time to start writing content.  Some helpful links:\n",
      "\n",
      "- [Writing Blogs With Jupyter](https://github.com/fastai/fastpages#writing-blog-posts-with-jupyter)\n",
      "\n",
      "- [Writing Blogs With Markdown](https://github.com/fastai/fastpages#writing-blog-posts-with-markdown)\n",
      "\n",
      "- [Writing Blog Posts With Word](https://github.com/fastai/fastpages#writing-blog-posts-with-microsoft-word)\n",
      "\n",
      "- [(Optional) Preview Your Blog Locally](_fastpages_docs/DEVELOPMENT.md)\n",
      "\n",
      "Note: you may want to remove example blog posts from the `_posts`,  `_notebooks` or `_word` folders (but leave them empty, don't delete these folders) if you don't want these blog posts to appear on your site.\n",
      "\n",
      "Please use the [nbdev & blogging channel](https://forums.fast.ai/c/fastai-users/nbdev/48) in the fastai forums for any questions or feature requests.\n",
      "\n",
      "end of README.md\n"
     ]
    }
   ],
   "source": [
    "# You must run cells above to define project\n",
    "echo \"Navigate to project, then navigate to area wwhere files were cloned\"\n",
    "\n",
    "cd $project\n",
    "echo \"show the contents of README.md\"\n",
    "echo \"\"\n",
    "\n",
    "cat README.md  # show contents of file, in this case markdown\n",
    "echo \"\"\n",
    "echo \"end of README.md\"\n"
   ]
  },
  {
   "cell_type": "markdown",
   "metadata": {},
   "source": [
    "### Env, Git and GitHub\n",
    "> Env(ironment) is used to capture things like path to Code or Home directory.  Git and GitHub is NOT Only used to exchange code between individuals, it is often used to exchange code through servers, in our case deployment for Website.   All tools we use have a behind the scenes hav relationship with the system they run on (MacOS, Windows, Linus) or a relationship with servers which they are connected to (ie GitHub).  There is an \"env\" command in bash.  There are environment files and setting files (.git/config) for Git.  They both use a key/value concept.\n",
    "\n",
    "- \"env\" show setting for your shell\n",
    "- \"git clone\" sets up a director of files\n",
    "- \"cd $project\" allows user to move inside that directory of files\n",
    "- \".git\" is a hidden directory that is used by git to establish relationship between machine and the git server on GitHub.  "
   ]
  },
  {
   "cell_type": "code",
   "execution_count": 7,
   "metadata": {
    "vscode": {
     "languageId": "shellscript"
    }
   },
   "outputs": [
    {
     "name": "stdout",
     "output_type": "stream",
     "text": [
      "Show the shell environment variables, key on left of equal value on right\n",
      "\n",
      "SHELL=/bin/zsh\n",
      "TMPDIR=/var/folders/g1/gs8rcsvx0n3fs0qgmgxqppc80000gp/T/\n",
      "CONDA_SHLVL=1\n",
      "PYTHONUNBUFFERED=1\n",
      "CONDA_PROMPT_MODIFIER=(base) \n",
      "OLDPWD=/Users/vyaangautam/HI/Blog/_notebooks\n",
      "ORIGINAL_XDG_CURRENT_DESKTOP=undefined\n",
      "MallocNanoZone=0\n",
      "PYDEVD_USE_FRAME_EVAL=NO\n",
      "PYTHONIOENCODING=utf-8\n",
      "USER=vyaangautam\n",
      "COMMAND_MODE=unix2003\n",
      "CONDA_EXE=/Users/vyaangautam/opt/anaconda3/bin/conda\n",
      "SSH_AUTH_SOCK=/private/tmp/com.apple.launchd.N0ZbqePwtV/Listeners\n",
      "__CF_USER_TEXT_ENCODING=0x1F6:0x0:0x0\n",
      "PAGER=cat\n",
      "VSCODE_AMD_ENTRYPOINT=vs/workbench/api/node/extensionHostProcess\n",
      "ELECTRON_RUN_AS_NODE=1\n",
      "_CE_CONDA=\n",
      "PATH=/Users/vyaangautam/opt/anaconda3/bin:/Users/vyaangautam/opt/anaconda3/condabin:/Library/Frameworks/Python.framework/Versions/2.7/bin:/usr/local/bin:/usr/bin:/bin:/usr/sbin:/sbin\n",
      "CONDA_PREFIX=/Users/vyaangautam/opt/anaconda3\n",
      "__CFBundleIdentifier=com.microsoft.VSCode\n",
      "PWD=/Users/vyaangautam/HI/Blog\n",
      "notebooks=/Users/vyaangautam/HI/Blog/_notebooks\n",
      "VSCODE_HANDLES_UNCAUGHT_ERRORS=true\n",
      "project_repo=https://github.com/VyaanG22/Blog.git\n",
      "project=/Users/vyaangautam/HI/Blog\n",
      "project_dir=/Users/vyaangautam/HI\n",
      "XPC_FLAGS=0x0\n",
      "PS1=[PEXP\\[\\]ECT_PROMPT>\n",
      "_CE_M=\n",
      "XPC_SERVICE_NAME=0\n",
      "SHLVL=1\n",
      "HOME=/Users/vyaangautam\n",
      "VSCODE_NLS_CONFIG={\"locale\":\"en-us\",\"availableLanguages\":{},\"_languagePackSupport\":true}\n",
      "CONDA_PYTHON_EXE=/Users/vyaangautam/opt/anaconda3/bin/python\n",
      "LOGNAME=vyaangautam\n",
      "LC_CTYPE=UTF-8\n",
      "VSCODE_IPC_HOOK=/Users/vyaangautam/Library/Application Support/Code/1.70.2-main.sock\n",
      "VSCODE_CODE_CACHE_PATH=/Users/vyaangautam/Library/Application Support/Code/CachedData/e4503b30fc78200f846c62cf8091b76ff5547662\n",
      "CONDA_DEFAULT_ENV=base\n",
      "VSCODE_PID=2216\n",
      "posts=/Users/vyaangautam/HI/Blog/_posts\n",
      "VSCODE_CWD=/\n",
      "_=/usr/bin/env\n"
     ]
    }
   ],
   "source": [
    "# This command has no dependencies\n",
    "\n",
    "echo \"Show the shell environment variables, key on left of equal value on right\"\n",
    "echo \"\"\n",
    "\n",
    "env"
   ]
  },
  {
   "cell_type": "code",
   "execution_count": 8,
   "metadata": {
    "vscode": {
     "languageId": "shellscript"
    }
   },
   "outputs": [
    {
     "name": "stdout",
     "output_type": "stream",
     "text": [
      "\n",
      "show the secrets of .git\n",
      "total 88\n",
      "-rw-r--r--    1 vyaangautam  staff    293 Sep  1 13:36 COMMIT_EDITMSG\n",
      "-rw-r--r--    1 vyaangautam  staff    547 Aug 31 14:22 FETCH_HEAD\n",
      "-rw-r--r--    1 vyaangautam  staff     23 Aug 29 13:37 HEAD\n",
      "-rw-r--r--    1 vyaangautam  staff     41 Aug 31 14:22 ORIG_HEAD\n",
      "-rw-r--r--    1 vyaangautam  staff    306 Aug 29 13:37 config\n",
      "-rw-r--r--    1 vyaangautam  staff     73 Aug 29 13:37 description\n",
      "drwxr-xr-x   15 vyaangautam  staff    480 Aug 29 13:37 hooks\n",
      "-rw-r--r--    1 vyaangautam  staff  12290 Sep  1 13:36 index\n",
      "drwxr-xr-x    3 vyaangautam  staff     96 Aug 29 13:37 info\n",
      "drwxr-xr-x    4 vyaangautam  staff    128 Aug 29 13:37 logs\n",
      "drwxr-xr-x  124 vyaangautam  staff   3968 Sep  1 13:36 objects\n",
      "-rw-r--r--    1 vyaangautam  staff    411 Aug 29 13:37 packed-refs\n",
      "drwxr-xr-x    5 vyaangautam  staff    160 Aug 29 13:37 refs\n",
      "\n",
      "look at config file\n",
      "[core]\n",
      "\trepositoryformatversion = 0\n",
      "\tfilemode = true\n",
      "\tbare = false\n",
      "\tlogallrefupdates = true\n",
      "\tignorecase = true\n",
      "\tprecomposeunicode = true\n",
      "[remote \"origin\"]\n",
      "\turl = https://github.com/VyaanG22/Blog.git\n",
      "\tfetch = +refs/heads/*:refs/remotes/origin/*\n",
      "[branch \"master\"]\n",
      "\tremote = origin\n",
      "\tmerge = refs/heads/master\n"
     ]
    }
   ],
   "source": [
    "# This command has dependencies on project\n",
    "\n",
    "cd $project\n",
    "\n",
    "echo \"\"\n",
    "echo \"show the secrets of .git\"\n",
    "cd .git\n",
    "ls -l\n",
    "\n",
    "echo \"\"\n",
    "echo \"look at config file\"\n",
    "cat config"
   ]
  },
  {
   "cell_type": "markdown",
   "metadata": {},
   "source": [
    "### Student Request - Make a file in Bash\n",
    "> This example was requested by a student (Jun Lim, CSA). The request was to make jupyer file using bash, I adapted the request to markdown.  This type of thought will have great extrapolation to coding and possibilities of using List, Arrays, or APIs to build user interfaces.  JavaScript is a language where building HTML is very common.\n",
    "\n",
    "> To get more interesting output from terminal, this will require using something like mdless (https://github.com/ttscoff/mdless).  This enables see markdown in rendered format.\n",
    "- On Desktop [Install PKG from MacPorts](https://www.macports.org/install.php)\n",
    "- In Terminal on MacOS\n",
    "    - [Install ncurses](https://ports.macports.org/port/ncurses/)\n",
    "    - ```gem install mdless```\n",
    "    \n",
    "> Output of the example is much nicer in \"jupyter\""
   ]
  },
  {
   "cell_type": "code",
   "execution_count": 9,
   "metadata": {
    "vscode": {
     "languageId": "shellscript"
    }
   },
   "outputs": [
    {
     "name": "stdout",
     "output_type": "stream",
     "text": [
      "\n",
      "File listing and status\n",
      "-rw-r--r--  1 vyaangautam  wheel  809 Sep  1 13:42 sample.md\n",
      "      15     132     809 sample.md\n",
      "bash: mdless: command not found\n"
     ]
    }
   ],
   "source": [
    "# This example has error in VSCode, it run best on Jupyter\n",
    "cd /tmp\n",
    "\n",
    "file=\"sample.md\"\n",
    "if [ -f \"$file\" ]; then\n",
    "    rm $file\n",
    "fi\n",
    "\n",
    "tee -a $file >/dev/null <<EOF\n",
    "# Show Generated Markdown\n",
    "This introductory paragraph and this line and the title above are generated using tee with the standard input (<<) redirection operator.\n",
    "- This bulleted element is still part of the tee body.\n",
    "EOF\n",
    "\n",
    "echo \"- This bulleted element and lines below are generated using echo with standard output (>>) redirection operator.\" >> $file\n",
    "echo \"- The list definition, as is, is using space to seperate lines.  Thus the use of commas and hyphens in output.\" >> $file\n",
    "actions=(\"ls,list-directory\" \"cd,change-directory\" \"pwd,present-working-directory\" \"if-then-fi,test-condition\" \"env,bash-environment-variables\" \"cat,view-file-contents\" \"tee,write-to-output\" \"echo,display-content-of-string\" \"echo_text_>\\$file,write-content-to-file\" \"echo_text_>>\\$file,append-content-to-file\")\n",
    "for action in ${actions[@]}; do  # for loop is very similar to other language, though [@], semi-colon, do are new\n",
    "  action=${action//-/ }  # convert dash to space\n",
    "  action=${action//,/: } # convert comma to colon\n",
    "  action=${action//_text_/ \\\"sample text\\\" } # convert _text_ to sample text, note escape character \\ to avoid \"\" having meaning\n",
    "  echo \"    - ${action//-/ }\" >> $file  # echo is redirected to file with >>\n",
    "done\n",
    "\n",
    "echo \"\"\n",
    "echo \"File listing and status\"\n",
    "ls -l $file # list file\n",
    "wc $file   # show words\n",
    "mdless $file  # this requires installation, but renders markown from terminal\n",
    "\n",
    "rm $file  # clean up termporary file"
   ]
  },
  {
   "cell_type": "markdown",
   "metadata": {},
   "source": [
    "## Hacks\n",
    "> Go back to some of the deployment procedures and think about some thing you could verify through Bash notebook.\n",
    "\n",
    "- Is there anything we use to verify tools we install? Think about versions.\n",
    "- Is there anything we could verify with Anaconda?\n",
    "- How would you update a repository?\n",
    "- Really cool would be automating a procedure from installation.\n"
   ]
  },
  {
   "cell_type": "code",
   "execution_count": null,
   "metadata": {},
   "outputs": [],
   "source": []
  }
 ],
 "metadata": {
  "kernelspec": {
   "display_name": "Python 3.8.9 64-bit",
   "language": "python",
   "name": "python3"
  },
  "language_info": {
   "codemirror_mode": "shell",
   "file_extension": ".sh",
   "mimetype": "text/x-sh",
   "name": "python",
   "version": "3.8.9"
  },
  "vscode": {
   "interpreter": {
    "hash": "31f2aee4e71d21fbe5cf8b01ff0e069b9275f58929596ceb00d14d90e3e16cd6"
   }
  }
 },
 "nbformat": 4,
 "nbformat_minor": 2
}
