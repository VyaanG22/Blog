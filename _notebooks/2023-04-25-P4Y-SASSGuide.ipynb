{
 "cells": [
  {
   "attachments": {},
   "cell_type": "markdown",
   "metadata": {},
   "source": [
    "# P4-Y 4/25 Guide to SASS \n",
    "> An guide on how to use SASS to build a more customized frontend.\n",
    "- toc: true\n",
    "- comments: true\n",
    "- badges: false\n",
    "- author: Aniket Chakradeo, Ryan Hakimipour, Max Tullius, Jaden Nguyen, Nathan Kim, Kalani Cabral-Omana, Evan Appari, Max Wu, \n",
    "- categories: [student]\n",
    "- type: ap\n",
    "- week: 31"
   ]
  },
  {
   "attachments": {},
   "cell_type": "markdown",
   "metadata": {},
   "source": [
    "# WGET this file and complete fully and thoroughly in order to be receive credit\n",
    "\n",
    "[Wget Link](https://raw.githubusercontent.com/nighthawkcoders/APCSP/master/_notebooks/2023-04-25-P4Y-SASSGuide.ipynb)\n",
    "\n",
    "## Team Lesson Plan: \n",
    "\n",
    "SASS Part 1- Nathan, Aniket, Kalani\n",
    "- Basic UI Properties and what they mean\n",
    "- Color properties\n",
    "- Themes\n",
    "- SASS Definition/What it is useful for\n",
    "- SASS code segments w/ comparison to css\n",
    "- Demonstration of SASS\n",
    "\n",
    "SASS Part 2- Max W, Evan \n",
    "- More UI Properties\n",
    "- UX\n",
    "- Layouts\n",
    "- Animation/animation code for UI\n",
    "\n",
    "Building JavaScript Game or Application- Ryan, Jaden\n",
    "- Before vs After Minesweeper Game - how to customize \n",
    "- Building a java script game and what it requires\n",
    "\n",
    "Hacks Page - Kalani, Max T\n",
    "- Students must create their own hack (simple app,game, etc using key components from the lesson) \n",
    "- Make sure the students can wget the file so they can work on it for their hacks\n"
   ]
  },
  {
   "attachments": {},
   "cell_type": "markdown",
   "metadata": {},
   "source": [
    "# Classwork: \n",
    "\n",
    "### What are 5 Basic UI Elements?:\n",
    "\n",
    "1.Text\n",
    "2.Input Controls\n",
    "3.Navigation\n",
    "4.Informational\n",
    "5.Containers\n",
    "\n",
    "### In your own words, explain what SASS does:\n",
    "SASS is a preprocessor scripting language used to simplify the process of writing and managing CSS code. It allows developers to use variables, nesting, functions, and mixins, which are not available in CSS. SASS is compiled into CSS, which is then used to style HTML elements.\n",
    "\n",
    "\n",
    "### What are some benefits to SASS?: \n",
    "Improved code organization and reusability\n",
    "Faster development time and easier maintenance\n",
    "Reduced code redundancy and file size\n",
    "Flexibility in defining styles using variables, functions, and mixins\n",
    "Ability to create complex animations and effects using built-in functions and libraries.\n",
    "\n",
    "### Describe/Explain one of the more \"advanced\" SASS properties below in detail:\n",
    "- One of the more advanced SASS properties is the @extend directive. This allows a selector to inherit styles from another selector, reducing the amount of CSS code needed. When an element is extended, it inherits all the styles of the original selector, and any changes to the original selector's styles will be applied to the extended selector as well.\n",
    "\n",
    "## [Link to Number Guesser Game](https://anicricket.github.io/tmv4/_pages/numberguesser_v3.html)\n",
    "\n",
    "\n",
    "### How does the number guesser game work?\n",
    "- The number guesser game generates a random number between 1 and 100 and allows the user to guess the number. After each guess, the game tells the user if their guess is too high or too low and keeps track of the number of guesses. Once the user guesses the correct number, the game ends and displays the number of guesses it took to win.\n",
    "\n",
    "### Explain how SASS can be used to make the number guesser game look more visually appealing?\n",
    "- SASS can be used to make the number guesser game look more visually appealing by defining variables for commonly used values like colors, font sizes, and spacing. This allows for consistent styling throughout the game and makes it easy to update the styles in one place. SASS nesting can also be used to organize styles and improve readability. Additionally, SASS mixins can be used to define reusable styles for things like buttons and form elements."
   ]
  },
  {
   "attachments": {},
   "cell_type": "markdown",
   "metadata": {},
   "source": [
    "# Hacks - Insert any screenshots, code segments, etc. that you need to in order to demonstrate an understanding of the hacks\n",
    "\n",
    "## Hacks Part 1\n",
    "1. Add your own element to your own repository to make it unique (0.9)\n",
    "\n",
    "## Hacks Part 2\n",
    "1. Add the style change button to your own github page (0.9)\n",
    "    - Change the button to your own styles \n",
    "    - See if you can let make it change to multiple different styles (we understand that it is hard to create multiple distinct styles so you are only required to make it clear you have at least three different styles at can be changed)\n",
    "2. Extra: Try and incorporate something you learned in the lesson into your CPT Project (0.1)\n",
    "\n",
    "## Hacks Part 3\n",
    "1. Add SASS to Number Guesser Game provided (0.9) or create your own Javascript game/application and add SASS to it (0.9+)\n",
    "2. We will collectively decide on the \"best\" game/app and award potential seed. \n",
    "\n",
    "# Copy and paste the following code segment into a markdown file which will be used for the hacks:"
   ]
  },
  {
   "cell_type": "code",
   "execution_count": null,
   "metadata": {},
   "outputs": [],
   "source": [
    "<html>\n",
    "<head>\n",
    "  <title>Guess the Number</title>\n",
    "</head>\n",
    "<body>\n",
    "  <h1>Guess the Number</h1>\n",
    "  <p>Try to guess the number between 1 and 100.</p>\n",
    "  <input type=\"text\" id=\"guess\" placeholder=\"Enter your guess\">\n",
    "  <button onclick=\"checkGuess()\">Submit</button>\n",
    "  <p id=\"result\"></p>\n",
    "\n",
    "  <script>\n",
    "    // Generate a random number between 1 and 100\n",
    "    const randomNumber = Math.floor(Math.random() * 100) + 1;\n",
    "    let attempts = 0;\n",
    "\n",
    "    function checkGuess() {\n",
    "      // Get the user's guess\n",
    "      const guess = parseInt(document.getElementById(\"guess\").value);\n",
    "\n",
    "      // Increase the number of attempts\n",
    "      attempts++;\n",
    "\n",
    "      // Check if the guess is correct\n",
    "      if (guess === randomNumber) {\n",
    "        document.getElementById(\"result\").innerHTML = `Congratulations! You guessed the number in ${attempts} attempts.`;\n",
    "      } else if (guess < randomNumber) {\n",
    "        document.getElementById(\"result\").innerHTML = \"Too low. Guess again.\";\n",
    "      } else {\n",
    "        document.getElementById(\"result\").innerHTML = \"Too high. Guess again.\";\n",
    "      }\n",
    "    }\n",
    "  </script>\n",
    "</body>\n",
    "</html>\n"
   ]
  },
  {
   "cell_type": "markdown",
   "metadata": {},
   "source": [
    "![picture 1](../images/2403914e13a3e9322d5a80d2d70bc56f2431cccb9c4eb72fa2f2c1c205b3c9f4.png)  \n"
   ]
  },
  {
   "cell_type": "markdown",
   "metadata": {},
   "source": [
    "![picture 2](../images/5ba2e8363b45d107625c802352f0e9c3926e176b806e3bb299da5c1fb522c58a.png)  \n"
   ]
  },
  {
   "cell_type": "markdown",
   "metadata": {},
   "source": [
    "![picture 3](../images/637ff60a059b646271dfae6bbd0c107f04e1cd3d3aa29e59f9a5baf13e23f82c.png)  \n"
   ]
  },
  {
   "cell_type": "markdown",
   "metadata": {},
   "source": [
    "![picture 4](../images/8e4821a6917fef48b5aa494b169d8ff500f9dfcd8fb0707f71b212725be9bc18.png)  \n"
   ]
  }
 ],
 "metadata": {
  "kernelspec": {
   "display_name": "Python 3.9.12 ('base')",
   "language": "python",
   "name": "python3"
  },
  "language_info": {
   "name": "python",
   "version": "3.9.12"
  },
  "orig_nbformat": 4,
  "vscode": {
   "interpreter": {
    "hash": "b83f92cf186cc163d5a14417fbfa48051acb04e5b071b5df17e157d3a041b7f3"
   }
  }
 },
 "nbformat": 4,
 "nbformat_minor": 2
}
