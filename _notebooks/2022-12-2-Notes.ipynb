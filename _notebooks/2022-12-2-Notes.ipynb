{
 "cells": [
  {
   "cell_type": "markdown",
   "metadata": {},
   "source": [
    " Section 1-2:\n",
    "    - Lists are used to organize data\n",
    "    - Split() splits lists and join() joins the lists toghether\n",
    "    - In the AP Exam the indexing starts at 1 rather than \n",
    "    - You can display data in Javascript through a function\n",
    "    - You can convert javascript output to html in order for it to look good\n",
    "    - Dictionaries store both a key and value\n",
    "    - Temporary variables can be used to set a value and change that value without affect the first variable\n",
    "    - Const in java sets a variable which cannot be changed\n",
    "    - Data can be pulled from lists"
   ]
  },
  {
   "cell_type": "markdown",
   "metadata": {},
   "source": [
    "\"Section 3-4:\n",
    "    - Modulus operator gives the variable after division\n",
    "    - Concatination is the combination of strings"
   ]
  },
  {
   "cell_type": "markdown",
   "metadata": {},
   "source": [
    "Section 5-7:\n",
    "    - Boolean is True(1) and False(0)\n",
    "    - Boolean operators produce certain numbers\n",
    "    - Algorithm is a set of instructions that accomplish a task\n",
    "    - Conditionals appear everywhere\n",
    "    - Selection is driven by conditionals"
   ]
  }
 ],
 "metadata": {
  "kernelspec": {
   "display_name": "Python 3.10.6 64-bit",
   "language": "python",
   "name": "python3"
  },
  "language_info": {
   "name": "python",
   "version": "3.10.6"
  },
  "orig_nbformat": 4,
  "vscode": {
   "interpreter": {
    "hash": "aee8b7b246df8f9039afb4144a1f6fd8d2ca17a180786b69acc140d282b71a49"
   }
  }
 },
 "nbformat": 4,
 "nbformat_minor": 2
}
