{
 "cells": [
  {
   "cell_type": "markdown",
   "metadata": {},
   "source": [
    "# Extra Credit\n",
    "> Extra Credit"
   ]
  },
  {
   "cell_type": "markdown",
   "metadata": {},
   "source": [
    "# Presenters: \n",
    "\n",
    "John -computer scientist from san marcos Ashely - graduated from san marcos in physics\n",
    "\n",
    "- Ashely loves physics she got a D but persisted because of her passion in physics, she failed Calc 1 and Calc 3 but doesn't let her failures define her from palm springs\n",
    "- John as a really good mustache looks like the villan from sonic the hedghog. transfered into San Marcos, and works now. He also went to palomar from three years.\n",
    "\n",
    "\n",
    "\n"
   ]
  },
  {
   "cell_type": "markdown",
   "metadata": {},
   "source": [
    "# Pathways\n",
    "\n",
    "- San Marcos gives internships\n",
    "- Pathways at San Marcos lots of variety including Computer science, Cybersecurity, Computer Engineering.\n",
    "- The school has lots of flexablility and has many different options even if what you initally choose isn't the perfect fit for you.\n",
    "- Hands on for applied physics with many labs\n",
    "\n"
   ]
  },
  {
   "cell_type": "markdown",
   "metadata": {},
   "source": [
    "# CSUSM CLUBS\n",
    "\n",
    "- Cybersecurity CLub\n",
    "- Robotics Club\n",
    "- 3D printing club and many more"
   ]
  },
  {
   "cell_type": "markdown",
   "metadata": {},
   "source": [
    "# Internships\n",
    "\n",
    " - Can be from 2 months to 4 years\n",
    " - Clubs offer internship opportunities\n",
    " - CHECK YOUR EMAILS! the department constantly provides you with opportunities"
   ]
  },
  {
   "cell_type": "markdown",
   "metadata": {},
   "source": [
    "# Programs\n",
    "\n",
    "- 10-week program, summer programs\n",
    "- work with a professors, so you can pursure interests and oppurtunities your interested in\n",
    "- Quantum Bridge Program - 4 week program"
   ]
  },
  {
   "cell_type": "markdown",
   "metadata": {},
   "source": [
    "# Research at CSUSM\n",
    "\n",
    "- Terrestriail Ecosystem Research Lab\n",
    "- California Primary Algae Laboratory and many more different research programs"
   ]
  },
  {
   "cell_type": "markdown",
   "metadata": {},
   "source": [
    "# Paying for college\n",
    "\n",
    "- Two types of loans\n",
    "- Subsidized - a loan partially funded by government\n",
    "- Unsubsidized - does accrue interest while you are in school during grace periods try to avoid NOT RECOMMENDED!\n",
    "- Different for sports and academics\n",
    "- To look for a scholarship you have to look for yourself \n",
    "- You can get a scholarship for basically anything\n",
    "- Ex. Grades, ethnicity, sports, and many more.\n"
   ]
  },
  {
   "cell_type": "markdown",
   "metadata": {},
   "source": [
    "# Scholarships and Grants\n",
    "\n",
    "- Apply for FASFA, studentaid.gov\n",
    "- Check email for scholarship opportunities\n",
    "- Google is your best friend look online for opportunities\n",
    "- Financial aid office"
   ]
  },
  {
   "cell_type": "markdown",
   "metadata": {},
   "source": [
    "# Life After CSUSM\n",
    " \n",
    " - Schools known for teaching credentials, many computer science majors end up working for government organizations such as Northrop Grumman\n",
    " - John got an internship after\n",
    " - Getting a masters degree is beneficial, you can get paid for these opportunities if your company wants too.\n",
    " - Ashley is getting paid 40k a year to do research for UCSD"
   ]
  }
 ],
 "metadata": {
  "language_info": {
   "name": "python"
  },
  "orig_nbformat": 4
 },
 "nbformat": 4,
 "nbformat_minor": 2
}
