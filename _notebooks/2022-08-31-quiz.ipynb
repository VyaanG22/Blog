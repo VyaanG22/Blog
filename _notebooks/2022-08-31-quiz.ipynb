{
 "cells": [
  {
   "cell_type": "markdown",
   "metadata": {},
   "source": [
    "# Python Quiz\n",
    "\n",
    "- toc: true\n",
    "- commets: true\n",
    "- permalink: /_notebooks/firstpython\n",
    "- description: My first Markdown Post\n",
    "- categories: [_notebooks]\n",
    "- title: First Markdown Post"
   ]
  },
  {
   "cell_type": "code",
   "execution_count": 4,
   "metadata": {},
   "outputs": [
    {
     "name": "stdout",
     "output_type": "stream",
     "text": [
      "Yes, you got it correct!\n",
      "that is correct\n",
      "That is correct\n",
      "That is correct\n",
      "4/4\n"
     ]
    }
   ],
   "source": [
    "the_total_score = 0\n",
    "\n",
    "x = input(\"What happens when you get fouled inside the 18-yard box?\")\n",
    "if x == \"Penalty Kick\":\n",
    "    print(\"Yes, you got it correct!\")\n",
    "    the_total_score += 1\n",
    "else:\n",
    "    print(\"Sorry you did not get it correct\")\n",
    "\n",
    "x = input(\"How many yellow cards does it take to get a red card\")\n",
    "if x == \"two\" or x == \"2\" or x == \"Two\":\n",
    "    print(\"that is correct\")\n",
    "    the_total_score +=1\n",
    "else:\n",
    "    print(\"sorry that is incorrect\")\n",
    "\n",
    "x = input(\"How many players are on at one time on each team?\")\n",
    "if x==\"11 players\":\n",
    "    print(\"That is correct\")\n",
    "    the_total_score += 1\n",
    "else:\n",
    "    print(\"That is not correct\")\n",
    "\n",
    "x= input(\"Who is the best soccer player to ever play the game\")\n",
    "if x== \"Messi\" or x== \"Lionel Messi\":\n",
    "    print(\"That is correct\")\n",
    "    the_total_score += 1\n",
    "else: \n",
    "    print(\"That is incorrect\")\n",
    "\n",
    "\n",
    "print(str(the_total_score) + \"/4\")"
   ]
  },
  {
   "cell_type": "markdown",
   "metadata": {},
   "source": []
  }
 ],
 "metadata": {
  "kernelspec": {
   "display_name": "Python 3.8.9 64-bit",
   "language": "python",
   "name": "python3"
  },
  "language_info": {
   "codemirror_mode": {
    "name": "ipython",
    "version": 3
   },
   "file_extension": ".py",
   "mimetype": "text/x-python",
   "name": "python",
   "nbconvert_exporter": "python",
   "pygments_lexer": "ipython3",
   "version": "3.8.9"
  },
  "orig_nbformat": 4,
  "vscode": {
   "interpreter": {
    "hash": "31f2aee4e71d21fbe5cf8b01ff0e069b9275f58929596ceb00d14d90e3e16cd6"
   }
  }
 },
 "nbformat": 4,
 "nbformat_minor": 2
}
