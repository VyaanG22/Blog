{
 "cells": [
  {
   "cell_type": "markdown",
   "metadata": {},
   "source": [
    "# Model and Object-Oriented Program\n",
    "\n",
    "- Title: Model and Object-Oriented Program\n",
    "- Toc: True\n",
    "- Badges: True\n",
    "- COmments: False\n",
    "- Author: Vyaan Gautam\n",
    "- Categories:[week 5]"
   ]
  },
  {
   "cell_type": "code",
   "execution_count": 8,
   "metadata": {},
   "outputs": [
    {
     "name": "stdout",
     "output_type": "stream",
     "text": [
      "Name: Vyaan Gautam\n",
      "ID Number: 1909578\n",
      "Graduation Year: 2025\n",
      "DOB: 2007-04-13\n",
      "Age: None\n",
      "Name: Vyaan Gautam\n",
      "ID Number: 1909578\n",
      "Graduation Year: 2025\n",
      "DOB: 2007-04-13\n",
      "Age: 15\n"
     ]
    }
   ],
   "source": [
    "import datetime\n",
    "\n",
    "class Student:\n",
    "    def __init__(self, fname, lname, idNum, classOf, dob):\n",
    "        self.fname = fname\n",
    "        self.lname = lname\n",
    "        self.idNum = idNum\n",
    "        self.classOf = classOf\n",
    "        self.dob = dob\n",
    "        self._age = None\n",
    "        \n",
    "    @property\n",
    "    def classOf(self):\n",
    "        return self._classOf\n",
    "    \n",
    "    @classOf.setter\n",
    "    def classOf(self, value):\n",
    "        self._classOf = value\n",
    "        \n",
    "    @property\n",
    "    def dob(self):\n",
    "        return self._dob\n",
    "    \n",
    "    @dob.setter\n",
    "    def dob(self, value):\n",
    "        self._dob = value\n",
    "        today = datetime.date.today()\n",
    "        self._age = today.year - self._dob.year - ((today.month, today.day) < (self._dob.month, self._dob.day))\n",
    "    \n",
    "    @property\n",
    "    def age(self):\n",
    "        return self._age\n",
    "    \n",
    "    def __str__(self):\n",
    "        return f\"Name: {self.fname} {self.lname}\\nID Number: {self.idNum}\\nGraduation Year: {self.classOf}\\nDOB: {self.dob}\\nAge: {self.age}\"\n",
    "        \n",
    "def tester():\n",
    "    s1 = Student(\"Vyaan\", \"Gautam\", \"1909578\", \"2025\", datetime.date(2007, 4, 13))\n",
    "    print(s1)\n",
    "    s1.dob = datetime.date(2007, 4, 13)\n",
    "    print(s1)\n",
    "    \n",
    "tester()\n"
   ]
  },
  {
   "cell_type": "markdown",
   "metadata": {},
   "source": []
  }
 ],
 "metadata": {
  "kernelspec": {
   "display_name": "Python 3.10.6 64-bit",
   "language": "python",
   "name": "python3"
  },
  "language_info": {
   "name": "python",
   "version": "3.10.6"
  },
  "orig_nbformat": 4,
  "vscode": {
   "interpreter": {
    "hash": "aee8b7b246df8f9039afb4144a1f6fd8d2ca17a180786b69acc140d282b71a49"
   }
  }
 },
 "nbformat": 4,
 "nbformat_minor": 2
}
