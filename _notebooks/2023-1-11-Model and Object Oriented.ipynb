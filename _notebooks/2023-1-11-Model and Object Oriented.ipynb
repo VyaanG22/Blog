{
 "cells": [
  {
   "cell_type": "markdown",
   "metadata": {},
   "source": [
    "# Model and Object-Oriented Program\n",
    "\n",
    "- Title: Model and Object-Oriented Program\n",
    "- Toc: True\n",
    "- Badges: True\n",
    "- COmments: False\n",
    "- Author: Vyaan Gautam\n",
    "- Categories:[week 5]"
   ]
  },
  {
   "cell_type": "code",
   "execution_count": 8,
   "metadata": {},
   "outputs": [
    {
     "name": "stdout",
     "output_type": "stream",
     "text": [
      "Name: Vyaan Gautam\n",
      "ID Number: 1909578\n",
      "Graduation Year: 2025\n",
      "DOB: 2007-04-13\n",
      "Age: None\n",
      "Name: Vyaan Gautam\n",
      "ID Number: 1909578\n",
      "Graduation Year: 2025\n",
      "DOB: 2007-04-13\n",
      "Age: 15\n"
     ]
    }
   ],
   "source": [
    "import datetime\n",
    "\n",
    "class Student:\n",
    "    def __init__(self, fname, lname, idNum, classOf, dob):\n",
    "        self.fname = fname\n",
    "        self.lname = lname\n",
    "        self.idNum = idNum\n",
    "        self.classOf = classOf\n",
    "        self.dob = dob\n",
    "        self._age = None\n",
    "        \n",
    "    @property\n",
    "    def classOf(self):\n",
    "        return self._classOf\n",
    "    \n",
    "    @classOf.setter\n",
    "    def classOf(self, value):\n",
    "        self._classOf = value\n",
    "        \n",
    "    @property\n",
    "    def dob(self):\n",
    "        return self._dob\n",
    "    \n",
    "    @dob.setter\n",
    "    def dob(self, value):\n",
    "        self._dob = value\n",
    "        today = datetime.date.today()\n",
    "        self._age = today.year - self._dob.year - ((today.month, today.day) < (self._dob.month, self._dob.day))\n",
    "    \n",
    "    @property\n",
    "    def age(self):\n",
    "        return self._age\n",
    "    \n",
    "    def __str__(self):\n",
    "        return f\"Name: {self.fname} {self.lname}\\nID Number: {self.idNum}\\nGraduation Year: {self.classOf}\\nDOB: {self.dob}\\nAge: {self.age}\"\n",
    "        \n",
    "def tester():\n",
    "    s1 = Student(\"Vyaan\", \"Gautam\", \"1909578\", \"2025\", datetime.date(2007, 4, 13))\n",
    "    print(s1)\n",
    "    s1.dob = datetime.date(2007, 4, 13)\n",
    "    print(s1)\n",
    "    \n",
    "tester()\n"
   ]
  },
  {
   "cell_type": "markdown",
   "metadata": {},
   "source": [
    "import datetime : This line is importing the datetime module. This module provides classes for manipulating dates and times.\n",
    "\n",
    "class Student: : This line is defining the start of the class. The class is called \"Student\".\n",
    "\n",
    "def __init__(self, fname, lname, idNum, classOf, dob): : This is the constructor method for the class. It gets called when an object of the class is created. It takes five parameters: \"fname\", \"lname\", \"idNum\", \"classOf\" and \"dob\" which are all assigned to the object's corresponding instance variables.\n",
    "\n",
    "self._age = None: This line creates an instance variable \"_age\" and assigns a value of None to it.\n",
    "\n",
    "@property : This is a Python decorator, which can be added above a method to indicate that it should be treated as a property. For example, it allows you to access the method like an attribute without calling it like a function.\n",
    "\n",
    "def classOf(self): : This is a getter method for the classOf property. It simply returns the value of the instance variable \"_classOf\".\n",
    "\n",
    "@classOf.setter : This is another decorator that specifies that the following method is a setter method for the classOf property.\n",
    "\n",
    "def classOf(self, value): : This is the setter method for the classOf property. It takes one parameter, \"value\", which it assigns to the instance variable \"_classOf\".\n",
    "\n",
    "def dob(self): : This is a getter method for the dob property. It simply returns the value of the instance variable \"_dob\".\n",
    "\n",
    "def dob(self, value): : This is the setter method for the dob property. It takes one parameter, \"value\", which it assigns to the instance variable \"_dob\". It also calculates the age of the student using today's date and assigns the result to the instance variable \"_age\".\n",
    "\n",
    "def age(self): : This is a getter method for the age property. It simply returns the value of the instance variable \"_age\".\n",
    "\n",
    "def __str__(self): : This is a special method that defines how the class should be represented as a string. It returns a formatted string that includes the student's name, ID number, graduation year, DOB, and age.\n",
    "\n",
    "def tester(): : This is a simple test function that creates an instance of the Student class and prints it out, then modifies its birthdate and prints it out again\n",
    "\n",
    "tester() : This is calling the tester function and run the test case"
   ]
  }
 ],
 "metadata": {
  "kernelspec": {
   "display_name": "Python 3.10.6 64-bit",
   "language": "python",
   "name": "python3"
  },
  "language_info": {
   "name": "python",
   "version": "3.10.6"
  },
  "orig_nbformat": 4,
  "vscode": {
   "interpreter": {
    "hash": "aee8b7b246df8f9039afb4144a1f6fd8d2ca17a180786b69acc140d282b71a49"
   }
  }
 },
 "nbformat": 4,
 "nbformat_minor": 2
}
